{
 "cells": [
  {
   "cell_type": "markdown",
   "metadata": {},
   "source": [
    "# **Title:**\n",
    "\n",
    "#        **ITSM Improvement through Machine Learning: Enhancing Incident Managementm at ABC Tech.**"
   ]
  },
  {
   "cell_type": "markdown",
   "metadata": {},
   "source": [
    "## **PROBLEM** **OF** **STATEMENT:**\n",
    "\n",
    "*   Predicting High Priority Tickets: To predict priority 1 & 2 tickets, so that they can take preventive measures or fix the problem before it surfaces.\n",
    "\n",
    "*   Forecast the incident volume in different fields , quarterly and annual. So that they can be better prepared with resources and technology planning.\n",
    "\n",
    "*    Auto tag the tickets with right priorities and right departments so that reassigning and related delay can be reduced.\n",
    "\n",
    "*    Predict RFC (Request for change) and possible failure / misconfiguration of ITSM assets."
   ]
  },
  {
   "cell_type": "markdown",
   "metadata": {},
   "source": [
    "# **Description:**\n",
    "## **Business Case Description:**\n",
    "\n",
    "ABC Tech is an established mid-sized organization operating in the IT-enabled business sector for over a decade. They manage a significant volume of IT incidents and tickets, averaging between 22,000 to 25,000 per year. ABC Tech follows best practices in IT Service Management (ITSM), including incident management, problem management, change management, and configuration management processes. These ITIL practices have matured over time, reaching a high level of process maturity.\n",
    "\n",
    "Recently, ABC Tech conducted an audit that indicated that further improvement initiatives in their ITSM processes may not provide a sufficient return on investment (ROI). Despite their mature processes, customer feedback from recent surveys has revealed that incident management, in particular, is rated poorly, suggesting there is room for enhancement.\n",
    "\n",
    "In response to these challenges, ABC Tech's management has decided to explore the potential of machine learning (ML) to enhance their ITSM processes. After attending a Machine Learning conference focused on IT Service Management (ITSM), they identified four key areas where ML can contribute to improving ITSM processes within the organization:\n",
    "\n",
    "1. **Predicting High Priority Tickets:** ABC Tech aims to develop an ML model that can predict high-priority tickets, specifically those categorized as priority 1 and 2. This prediction will allow them to take proactive measures to address issues or incidents before they escalate.\n",
    "\n",
    "2. **Forecasting Incident Volume:** The organization plans to use ML to forecast the incident volume in different fields on a quarterly and annual basis. This predictive capability will help them better allocate resources and plan for the required technology upgrades.\n",
    "\n",
    "3. **Auto-Tagging Tickets:** ABC Tech intends to implement a text classification ML model to automatically assign correct priorities and departments to incoming tickets. This automation will reduce reassignment and related delays in ticket handling.\n",
    "\n",
    "4. **Predicting RFC and ITSM Asset Misconfigurations:** The organization aims to create predictive models for Request for Change (RFC) and detect potential failures or misconfigurations in ITSM assets. Identifying these issues in advance will help in preventing disruptions and improving overall ITSM asset management.\n",
    "\n",
    "The dataset that ABC Tech plans to use for these ML initiatives comprises a total of approximately 46,000 records spanning the years 2012, 2013, and 2014. The data is stored in a MySQL database with read-only access, and the relevant connection details are provided.\n",
    "\n",
    "Here's a summary of some key fields in the dataset:\n",
    "\n",
    "- CI_Name: Configuration Item Name\n",
    "- CI_Cat: Configuration Item Category\n",
    "- CI_Subcat: Configuration Item Subcategory\n",
    "- Incident_ID: Incident Identifier\n",
    "- Status: Incident Status (e.g., Closed)\n",
    "- Impact: Impact level\n",
    "- Urgency: Urgency level\n",
    "- Priority: Incident Priority\n",
    "- Category: Incident Category\n",
    "- KB_number: Knowledge Base Number\n",
    "- Alert_Status: Alert Status\n",
    "- No_of_Reassignments: Number of Reassignments\n",
    "- Open_Time: Incident Open Time\n",
    "- Reopen_Time: Incident Reopen Time\n",
    "- Resolved_Time: Incident Resolved Time\n",
    "- Close_Time: Incident Close Time\n",
    "- Handle_Time_hrs: Time taken to handle the incident (in hours)\n",
    "- Closure_Code: Code for incident closure\n",
    "- No_of_Related_Interactions: Number of Related Interactions\n",
    "- Related_Interaction: Identifier for Related Interaction\n",
    "- No_of_Related_Incidents: Number of Related Incidents\n",
    "- No_of_Related_Changes: Number of Related Changes\n",
    "- Related_Change: Identifier for Related Change\n"
   ]
  },
  {
   "cell_type": "markdown",
   "metadata": {},
   "source": [
    "## **Basic Checks**"
   ]
  },
  {
   "cell_type": "markdown",
   "metadata": {},
   "source": [
    "## **Import Basic Libraries:**"
   ]
  },
  {
   "cell_type": "code",
   "execution_count": 2,
   "metadata": {},
   "outputs": [],
   "source": [
    "import numpy as np\n",
    "import pandas as pd\n",
    "import seaborn as sns\n",
    "import matplotlib.pyplot as plt\n",
    "%matplotlib inline\n",
    "import warnings\n",
    "warnings.filterwarnings(\"ignore\")"
   ]
  },
  {
   "cell_type": "markdown",
   "metadata": {},
   "source": [
    "## **Load Data:**"
   ]
  },
  {
   "cell_type": "code",
   "execution_count": 3,
   "metadata": {},
   "outputs": [],
   "source": [
    "data=pd.read_csv(\"Data/ITSM_data.csv\")"
   ]
  },
  {
   "cell_type": "code",
   "execution_count": 4,
   "metadata": {},
   "outputs": [
    {
     "data": {
      "text/html": [
       "<div>\n",
       "<style scoped>\n",
       "    .dataframe tbody tr th:only-of-type {\n",
       "        vertical-align: middle;\n",
       "    }\n",
       "\n",
       "    .dataframe tbody tr th {\n",
       "        vertical-align: top;\n",
       "    }\n",
       "\n",
       "    .dataframe thead th {\n",
       "        text-align: right;\n",
       "    }\n",
       "</style>\n",
       "<table border=\"1\" class=\"dataframe\">\n",
       "  <thead>\n",
       "    <tr style=\"text-align: right;\">\n",
       "      <th></th>\n",
       "      <th>CI_Name</th>\n",
       "      <th>CI_Cat</th>\n",
       "      <th>CI_Subcat</th>\n",
       "      <th>WBS</th>\n",
       "      <th>Incident_ID</th>\n",
       "      <th>Status</th>\n",
       "      <th>Impact</th>\n",
       "      <th>Urgency</th>\n",
       "      <th>Priority</th>\n",
       "      <th>number_cnt</th>\n",
       "      <th>...</th>\n",
       "      <th>Reopen_Time</th>\n",
       "      <th>Resolved_Time</th>\n",
       "      <th>Close_Time</th>\n",
       "      <th>Handle_Time_hrs</th>\n",
       "      <th>Closure_Code</th>\n",
       "      <th>No_of_Related_Interactions</th>\n",
       "      <th>Related_Interaction</th>\n",
       "      <th>No_of_Related_Incidents</th>\n",
       "      <th>No_of_Related_Changes</th>\n",
       "      <th>Related_Change</th>\n",
       "    </tr>\n",
       "  </thead>\n",
       "  <tbody>\n",
       "    <tr>\n",
       "      <th>0</th>\n",
       "      <td>SUB000508</td>\n",
       "      <td>subapplication</td>\n",
       "      <td>Web Based Application</td>\n",
       "      <td>WBS000162</td>\n",
       "      <td>IM0000004</td>\n",
       "      <td>Closed</td>\n",
       "      <td>4</td>\n",
       "      <td>4</td>\n",
       "      <td>4.0</td>\n",
       "      <td>0.601292</td>\n",
       "      <td>...</td>\n",
       "      <td>NaN</td>\n",
       "      <td>4/11/2013 13:50</td>\n",
       "      <td>4/11/2013 13:51</td>\n",
       "      <td>3,87,16,91,111</td>\n",
       "      <td>Other</td>\n",
       "      <td>1.0</td>\n",
       "      <td>SD0000007</td>\n",
       "      <td>2.0</td>\n",
       "      <td>NaN</td>\n",
       "      <td>NaN</td>\n",
       "    </tr>\n",
       "    <tr>\n",
       "      <th>1</th>\n",
       "      <td>WBA000124</td>\n",
       "      <td>application</td>\n",
       "      <td>Web Based Application</td>\n",
       "      <td>WBS000088</td>\n",
       "      <td>IM0000005</td>\n",
       "      <td>Closed</td>\n",
       "      <td>3</td>\n",
       "      <td>3</td>\n",
       "      <td>3.0</td>\n",
       "      <td>0.415050</td>\n",
       "      <td>...</td>\n",
       "      <td>2/12/2013 12:31</td>\n",
       "      <td>2/12/2013 12:36</td>\n",
       "      <td>2/12/2013 12:36</td>\n",
       "      <td>4,35,47,86,389</td>\n",
       "      <td>Software</td>\n",
       "      <td>1.0</td>\n",
       "      <td>SD0000011</td>\n",
       "      <td>1.0</td>\n",
       "      <td>NaN</td>\n",
       "      <td>NaN</td>\n",
       "    </tr>\n",
       "    <tr>\n",
       "      <th>2</th>\n",
       "      <td>DTA000024</td>\n",
       "      <td>application</td>\n",
       "      <td>Desktop Application</td>\n",
       "      <td>WBS000092</td>\n",
       "      <td>IM0000006</td>\n",
       "      <td>Closed</td>\n",
       "      <td>NS</td>\n",
       "      <td>3</td>\n",
       "      <td>NaN</td>\n",
       "      <td>0.517551</td>\n",
       "      <td>...</td>\n",
       "      <td>NaN</td>\n",
       "      <td>13-01-2014 15:12</td>\n",
       "      <td>13-01-2014 15:13</td>\n",
       "      <td>4,84,31,19,444</td>\n",
       "      <td>No error - works as designed</td>\n",
       "      <td>1.0</td>\n",
       "      <td>SD0000017</td>\n",
       "      <td>NaN</td>\n",
       "      <td>NaN</td>\n",
       "      <td>NaN</td>\n",
       "    </tr>\n",
       "    <tr>\n",
       "      <th>3</th>\n",
       "      <td>WBA000124</td>\n",
       "      <td>application</td>\n",
       "      <td>Web Based Application</td>\n",
       "      <td>WBS000088</td>\n",
       "      <td>IM0000011</td>\n",
       "      <td>Closed</td>\n",
       "      <td>4</td>\n",
       "      <td>4</td>\n",
       "      <td>4.0</td>\n",
       "      <td>0.642927</td>\n",
       "      <td>...</td>\n",
       "      <td>NaN</td>\n",
       "      <td>14-11-2013 09:31</td>\n",
       "      <td>14-11-2013 09:31</td>\n",
       "      <td>4,32,18,33,333</td>\n",
       "      <td>Operator error</td>\n",
       "      <td>1.0</td>\n",
       "      <td>SD0000025</td>\n",
       "      <td>NaN</td>\n",
       "      <td>NaN</td>\n",
       "      <td>NaN</td>\n",
       "    </tr>\n",
       "    <tr>\n",
       "      <th>4</th>\n",
       "      <td>WBA000124</td>\n",
       "      <td>application</td>\n",
       "      <td>Web Based Application</td>\n",
       "      <td>WBS000088</td>\n",
       "      <td>IM0000012</td>\n",
       "      <td>Closed</td>\n",
       "      <td>4</td>\n",
       "      <td>4</td>\n",
       "      <td>4.0</td>\n",
       "      <td>0.345258</td>\n",
       "      <td>...</td>\n",
       "      <td>NaN</td>\n",
       "      <td>8/11/2013 13:55</td>\n",
       "      <td>8/11/2013 13:55</td>\n",
       "      <td>3,38,39,03,333</td>\n",
       "      <td>Other</td>\n",
       "      <td>1.0</td>\n",
       "      <td>SD0000029</td>\n",
       "      <td>NaN</td>\n",
       "      <td>NaN</td>\n",
       "      <td>NaN</td>\n",
       "    </tr>\n",
       "  </tbody>\n",
       "</table>\n",
       "<p>5 rows × 25 columns</p>\n",
       "</div>"
      ],
      "text/plain": [
       "     CI_Name          CI_Cat              CI_Subcat        WBS Incident_ID  \\\n",
       "0  SUB000508  subapplication  Web Based Application  WBS000162   IM0000004   \n",
       "1  WBA000124     application  Web Based Application  WBS000088   IM0000005   \n",
       "2  DTA000024     application    Desktop Application  WBS000092   IM0000006   \n",
       "3  WBA000124     application  Web Based Application  WBS000088   IM0000011   \n",
       "4  WBA000124     application  Web Based Application  WBS000088   IM0000012   \n",
       "\n",
       "   Status Impact Urgency  Priority  number_cnt  ...      Reopen_Time  \\\n",
       "0  Closed      4       4       4.0    0.601292  ...              NaN   \n",
       "1  Closed      3       3       3.0    0.415050  ...  2/12/2013 12:31   \n",
       "2  Closed     NS       3       NaN    0.517551  ...              NaN   \n",
       "3  Closed      4       4       4.0    0.642927  ...              NaN   \n",
       "4  Closed      4       4       4.0    0.345258  ...              NaN   \n",
       "\n",
       "      Resolved_Time        Close_Time  Handle_Time_hrs  \\\n",
       "0   4/11/2013 13:50   4/11/2013 13:51   3,87,16,91,111   \n",
       "1   2/12/2013 12:36   2/12/2013 12:36   4,35,47,86,389   \n",
       "2  13-01-2014 15:12  13-01-2014 15:13   4,84,31,19,444   \n",
       "3  14-11-2013 09:31  14-11-2013 09:31   4,32,18,33,333   \n",
       "4   8/11/2013 13:55   8/11/2013 13:55   3,38,39,03,333   \n",
       "\n",
       "                   Closure_Code No_of_Related_Interactions  \\\n",
       "0                         Other                        1.0   \n",
       "1                      Software                        1.0   \n",
       "2  No error - works as designed                        1.0   \n",
       "3                Operator error                        1.0   \n",
       "4                         Other                        1.0   \n",
       "\n",
       "  Related_Interaction No_of_Related_Incidents No_of_Related_Changes  \\\n",
       "0           SD0000007                     2.0                   NaN   \n",
       "1           SD0000011                     1.0                   NaN   \n",
       "2           SD0000017                     NaN                   NaN   \n",
       "3           SD0000025                     NaN                   NaN   \n",
       "4           SD0000029                     NaN                   NaN   \n",
       "\n",
       "  Related_Change  \n",
       "0            NaN  \n",
       "1            NaN  \n",
       "2            NaN  \n",
       "3            NaN  \n",
       "4            NaN  \n",
       "\n",
       "[5 rows x 25 columns]"
      ]
     },
     "execution_count": 4,
     "metadata": {},
     "output_type": "execute_result"
    }
   ],
   "source": [
    "data.head()"
   ]
  },
  {
   "cell_type": "code",
   "execution_count": 5,
   "metadata": {},
   "outputs": [
    {
     "data": {
      "text/plain": [
       "(46606, 25)"
      ]
     },
     "execution_count": 5,
     "metadata": {},
     "output_type": "execute_result"
    }
   ],
   "source": [
    "data.shape"
   ]
  },
  {
   "cell_type": "code",
   "execution_count": 6,
   "metadata": {},
   "outputs": [
    {
     "data": {
      "text/plain": [
       "CI_Name                           0\n",
       "CI_Cat                          111\n",
       "CI_Subcat                       111\n",
       "WBS                               0\n",
       "Incident_ID                       0\n",
       "Status                            0\n",
       "Impact                            0\n",
       "Urgency                           0\n",
       "Priority                       1380\n",
       "number_cnt                        0\n",
       "Category                          0\n",
       "KB_number                         0\n",
       "Alert_Status                      0\n",
       "No_of_Reassignments               1\n",
       "Open_Time                         0\n",
       "Reopen_Time                   44322\n",
       "Resolved_Time                  1780\n",
       "Close_Time                        0\n",
       "Handle_Time_hrs                   1\n",
       "Closure_Code                    460\n",
       "No_of_Related_Interactions      114\n",
       "Related_Interaction               0\n",
       "No_of_Related_Incidents       45384\n",
       "No_of_Related_Changes         46046\n",
       "Related_Change                46046\n",
       "dtype: int64"
      ]
     },
     "execution_count": 6,
     "metadata": {},
     "output_type": "execute_result"
    }
   ],
   "source": [
    "data.isnull().sum()"
   ]
  },
  {
   "cell_type": "code",
   "execution_count": 7,
   "metadata": {},
   "outputs": [
    {
     "data": {
      "text/plain": [
       "0"
      ]
     },
     "execution_count": 7,
     "metadata": {},
     "output_type": "execute_result"
    }
   ],
   "source": [
    "data.duplicated().sum()"
   ]
  },
  {
   "cell_type": "code",
   "execution_count": 8,
   "metadata": {},
   "outputs": [
    {
     "name": "stdout",
     "output_type": "stream",
     "text": [
      "<class 'pandas.core.frame.DataFrame'>\n",
      "RangeIndex: 46606 entries, 0 to 46605\n",
      "Data columns (total 25 columns):\n",
      " #   Column                      Non-Null Count  Dtype  \n",
      "---  ------                      --------------  -----  \n",
      " 0   CI_Name                     46606 non-null  object \n",
      " 1   CI_Cat                      46495 non-null  object \n",
      " 2   CI_Subcat                   46495 non-null  object \n",
      " 3   WBS                         46606 non-null  object \n",
      " 4   Incident_ID                 46606 non-null  object \n",
      " 5   Status                      46606 non-null  object \n",
      " 6   Impact                      46606 non-null  object \n",
      " 7   Urgency                     46606 non-null  object \n",
      " 8   Priority                    45226 non-null  float64\n",
      " 9   number_cnt                  46606 non-null  float64\n",
      " 10  Category                    46606 non-null  object \n",
      " 11  KB_number                   46606 non-null  object \n",
      " 12  Alert_Status                46606 non-null  object \n",
      " 13  No_of_Reassignments         46605 non-null  float64\n",
      " 14  Open_Time                   46606 non-null  object \n",
      " 15  Reopen_Time                 2284 non-null   object \n",
      " 16  Resolved_Time               44826 non-null  object \n",
      " 17  Close_Time                  46606 non-null  object \n",
      " 18  Handle_Time_hrs             46605 non-null  object \n",
      " 19  Closure_Code                46146 non-null  object \n",
      " 20  No_of_Related_Interactions  46492 non-null  float64\n",
      " 21  Related_Interaction         46606 non-null  object \n",
      " 22  No_of_Related_Incidents     1222 non-null   float64\n",
      " 23  No_of_Related_Changes       560 non-null    float64\n",
      " 24  Related_Change              560 non-null    object \n",
      "dtypes: float64(6), object(19)\n",
      "memory usage: 8.9+ MB\n"
     ]
    }
   ],
   "source": [
    "data.info()"
   ]
  },
  {
   "cell_type": "code",
   "execution_count": 9,
   "metadata": {},
   "outputs": [
    {
     "data": {
      "text/plain": [
       "CI_Name                        object\n",
       "CI_Cat                         object\n",
       "CI_Subcat                      object\n",
       "WBS                            object\n",
       "Incident_ID                    object\n",
       "Status                         object\n",
       "Impact                         object\n",
       "Urgency                        object\n",
       "Priority                      float64\n",
       "number_cnt                    float64\n",
       "Category                       object\n",
       "KB_number                      object\n",
       "Alert_Status                   object\n",
       "No_of_Reassignments           float64\n",
       "Open_Time                      object\n",
       "Reopen_Time                    object\n",
       "Resolved_Time                  object\n",
       "Close_Time                     object\n",
       "Handle_Time_hrs                object\n",
       "Closure_Code                   object\n",
       "No_of_Related_Interactions    float64\n",
       "Related_Interaction            object\n",
       "No_of_Related_Incidents       float64\n",
       "No_of_Related_Changes         float64\n",
       "Related_Change                 object\n",
       "dtype: object"
      ]
     },
     "execution_count": 9,
     "metadata": {},
     "output_type": "execute_result"
    }
   ],
   "source": [
    "data.dtypes"
   ]
  },
  {
   "cell_type": "code",
   "execution_count": 10,
   "metadata": {},
   "outputs": [
    {
     "data": {
      "text/plain": [
       "Index(['CI_Name', 'CI_Cat', 'CI_Subcat', 'WBS', 'Incident_ID', 'Status',\n",
       "       'Impact', 'Urgency', 'Priority', 'number_cnt', 'Category', 'KB_number',\n",
       "       'Alert_Status', 'No_of_Reassignments', 'Open_Time', 'Reopen_Time',\n",
       "       'Resolved_Time', 'Close_Time', 'Handle_Time_hrs', 'Closure_Code',\n",
       "       'No_of_Related_Interactions', 'Related_Interaction',\n",
       "       'No_of_Related_Incidents', 'No_of_Related_Changes', 'Related_Change'],\n",
       "      dtype='object')"
      ]
     },
     "execution_count": 10,
     "metadata": {},
     "output_type": "execute_result"
    }
   ],
   "source": [
    "data.columns"
   ]
  },
  {
   "cell_type": "code",
   "execution_count": 11,
   "metadata": {},
   "outputs": [
    {
     "data": {
      "text/html": [
       "<div>\n",
       "<style scoped>\n",
       "    .dataframe tbody tr th:only-of-type {\n",
       "        vertical-align: middle;\n",
       "    }\n",
       "\n",
       "    .dataframe tbody tr th {\n",
       "        vertical-align: top;\n",
       "    }\n",
       "\n",
       "    .dataframe thead th {\n",
       "        text-align: right;\n",
       "    }\n",
       "</style>\n",
       "<table border=\"1\" class=\"dataframe\">\n",
       "  <thead>\n",
       "    <tr style=\"text-align: right;\">\n",
       "      <th></th>\n",
       "      <th>count</th>\n",
       "      <th>mean</th>\n",
       "      <th>std</th>\n",
       "      <th>min</th>\n",
       "      <th>25%</th>\n",
       "      <th>50%</th>\n",
       "      <th>75%</th>\n",
       "      <th>max</th>\n",
       "    </tr>\n",
       "  </thead>\n",
       "  <tbody>\n",
       "    <tr>\n",
       "      <th>Priority</th>\n",
       "      <td>45226.0</td>\n",
       "      <td>4.215805</td>\n",
       "      <td>0.705624</td>\n",
       "      <td>1.000000</td>\n",
       "      <td>4.000000</td>\n",
       "      <td>4.000000</td>\n",
       "      <td>5.000000</td>\n",
       "      <td>5.000000</td>\n",
       "    </tr>\n",
       "    <tr>\n",
       "      <th>number_cnt</th>\n",
       "      <td>46606.0</td>\n",
       "      <td>0.499658</td>\n",
       "      <td>0.288634</td>\n",
       "      <td>0.000023</td>\n",
       "      <td>0.248213</td>\n",
       "      <td>0.500269</td>\n",
       "      <td>0.749094</td>\n",
       "      <td>0.999997</td>\n",
       "    </tr>\n",
       "    <tr>\n",
       "      <th>No_of_Reassignments</th>\n",
       "      <td>46605.0</td>\n",
       "      <td>1.131831</td>\n",
       "      <td>2.269774</td>\n",
       "      <td>0.000000</td>\n",
       "      <td>0.000000</td>\n",
       "      <td>0.000000</td>\n",
       "      <td>2.000000</td>\n",
       "      <td>46.000000</td>\n",
       "    </tr>\n",
       "    <tr>\n",
       "      <th>No_of_Related_Interactions</th>\n",
       "      <td>46492.0</td>\n",
       "      <td>1.149897</td>\n",
       "      <td>2.556338</td>\n",
       "      <td>1.000000</td>\n",
       "      <td>1.000000</td>\n",
       "      <td>1.000000</td>\n",
       "      <td>1.000000</td>\n",
       "      <td>370.000000</td>\n",
       "    </tr>\n",
       "    <tr>\n",
       "      <th>No_of_Related_Incidents</th>\n",
       "      <td>1222.0</td>\n",
       "      <td>1.669394</td>\n",
       "      <td>3.339687</td>\n",
       "      <td>1.000000</td>\n",
       "      <td>1.000000</td>\n",
       "      <td>1.000000</td>\n",
       "      <td>1.000000</td>\n",
       "      <td>63.000000</td>\n",
       "    </tr>\n",
       "    <tr>\n",
       "      <th>No_of_Related_Changes</th>\n",
       "      <td>560.0</td>\n",
       "      <td>1.058929</td>\n",
       "      <td>0.403596</td>\n",
       "      <td>1.000000</td>\n",
       "      <td>1.000000</td>\n",
       "      <td>1.000000</td>\n",
       "      <td>1.000000</td>\n",
       "      <td>9.000000</td>\n",
       "    </tr>\n",
       "  </tbody>\n",
       "</table>\n",
       "</div>"
      ],
      "text/plain": [
       "                              count      mean       std       min       25%  \\\n",
       "Priority                    45226.0  4.215805  0.705624  1.000000  4.000000   \n",
       "number_cnt                  46606.0  0.499658  0.288634  0.000023  0.248213   \n",
       "No_of_Reassignments         46605.0  1.131831  2.269774  0.000000  0.000000   \n",
       "No_of_Related_Interactions  46492.0  1.149897  2.556338  1.000000  1.000000   \n",
       "No_of_Related_Incidents      1222.0  1.669394  3.339687  1.000000  1.000000   \n",
       "No_of_Related_Changes         560.0  1.058929  0.403596  1.000000  1.000000   \n",
       "\n",
       "                                 50%       75%         max  \n",
       "Priority                    4.000000  5.000000    5.000000  \n",
       "number_cnt                  0.500269  0.749094    0.999997  \n",
       "No_of_Reassignments         0.000000  2.000000   46.000000  \n",
       "No_of_Related_Interactions  1.000000  1.000000  370.000000  \n",
       "No_of_Related_Incidents     1.000000  1.000000   63.000000  \n",
       "No_of_Related_Changes       1.000000  1.000000    9.000000  "
      ]
     },
     "execution_count": 11,
     "metadata": {},
     "output_type": "execute_result"
    }
   ],
   "source": [
    "data.describe().T"
   ]
  },
  {
   "cell_type": "code",
   "execution_count": 12,
   "metadata": {},
   "outputs": [
    {
     "data": {
      "text/html": [
       "<div>\n",
       "<style scoped>\n",
       "    .dataframe tbody tr th:only-of-type {\n",
       "        vertical-align: middle;\n",
       "    }\n",
       "\n",
       "    .dataframe tbody tr th {\n",
       "        vertical-align: top;\n",
       "    }\n",
       "\n",
       "    .dataframe thead th {\n",
       "        text-align: right;\n",
       "    }\n",
       "</style>\n",
       "<table border=\"1\" class=\"dataframe\">\n",
       "  <thead>\n",
       "    <tr style=\"text-align: right;\">\n",
       "      <th></th>\n",
       "      <th>CI_Name</th>\n",
       "      <th>CI_Cat</th>\n",
       "      <th>CI_Subcat</th>\n",
       "      <th>WBS</th>\n",
       "      <th>Incident_ID</th>\n",
       "      <th>Status</th>\n",
       "      <th>Impact</th>\n",
       "      <th>Urgency</th>\n",
       "      <th>Category</th>\n",
       "      <th>KB_number</th>\n",
       "      <th>Alert_Status</th>\n",
       "      <th>Open_Time</th>\n",
       "      <th>Reopen_Time</th>\n",
       "      <th>Resolved_Time</th>\n",
       "      <th>Close_Time</th>\n",
       "      <th>Handle_Time_hrs</th>\n",
       "      <th>Closure_Code</th>\n",
       "      <th>Related_Interaction</th>\n",
       "      <th>Related_Change</th>\n",
       "    </tr>\n",
       "  </thead>\n",
       "  <tbody>\n",
       "    <tr>\n",
       "      <th>count</th>\n",
       "      <td>46606</td>\n",
       "      <td>46495</td>\n",
       "      <td>46495</td>\n",
       "      <td>46606</td>\n",
       "      <td>46606</td>\n",
       "      <td>46606</td>\n",
       "      <td>46606</td>\n",
       "      <td>46606</td>\n",
       "      <td>46606</td>\n",
       "      <td>46606</td>\n",
       "      <td>46606</td>\n",
       "      <td>46606</td>\n",
       "      <td>2284</td>\n",
       "      <td>44826</td>\n",
       "      <td>46606</td>\n",
       "      <td>46605</td>\n",
       "      <td>46146</td>\n",
       "      <td>46606</td>\n",
       "      <td>560</td>\n",
       "    </tr>\n",
       "    <tr>\n",
       "      <th>unique</th>\n",
       "      <td>3019</td>\n",
       "      <td>12</td>\n",
       "      <td>64</td>\n",
       "      <td>274</td>\n",
       "      <td>46606</td>\n",
       "      <td>2</td>\n",
       "      <td>6</td>\n",
       "      <td>11</td>\n",
       "      <td>4</td>\n",
       "      <td>1825</td>\n",
       "      <td>1</td>\n",
       "      <td>34636</td>\n",
       "      <td>2244</td>\n",
       "      <td>33627</td>\n",
       "      <td>34528</td>\n",
       "      <td>30638</td>\n",
       "      <td>14</td>\n",
       "      <td>43060</td>\n",
       "      <td>232</td>\n",
       "    </tr>\n",
       "    <tr>\n",
       "      <th>top</th>\n",
       "      <td>SUB000456</td>\n",
       "      <td>application</td>\n",
       "      <td>Server Based Application</td>\n",
       "      <td>WBS000073</td>\n",
       "      <td>IM0000004</td>\n",
       "      <td>Closed</td>\n",
       "      <td>4</td>\n",
       "      <td>4</td>\n",
       "      <td>incident</td>\n",
       "      <td>KM0001106</td>\n",
       "      <td>closed</td>\n",
       "      <td>24-03-2014 08:54</td>\n",
       "      <td>29-10-2013 15:03</td>\n",
       "      <td>10/10/2013 12:53</td>\n",
       "      <td>2/10/2013 15:20</td>\n",
       "      <td>0</td>\n",
       "      <td>Other</td>\n",
       "      <td>#MULTIVALUE</td>\n",
       "      <td>C00003013</td>\n",
       "    </tr>\n",
       "    <tr>\n",
       "      <th>freq</th>\n",
       "      <td>3050</td>\n",
       "      <td>32900</td>\n",
       "      <td>18811</td>\n",
       "      <td>13342</td>\n",
       "      <td>1</td>\n",
       "      <td>46597</td>\n",
       "      <td>22556</td>\n",
       "      <td>15526</td>\n",
       "      <td>37748</td>\n",
       "      <td>1106</td>\n",
       "      <td>46606</td>\n",
       "      <td>7</td>\n",
       "      <td>2</td>\n",
       "      <td>7</td>\n",
       "      <td>21</td>\n",
       "      <td>236</td>\n",
       "      <td>16470</td>\n",
       "      <td>3434</td>\n",
       "      <td>110</td>\n",
       "    </tr>\n",
       "  </tbody>\n",
       "</table>\n",
       "</div>"
      ],
      "text/plain": [
       "          CI_Name       CI_Cat                 CI_Subcat        WBS  \\\n",
       "count       46606        46495                     46495      46606   \n",
       "unique       3019           12                        64        274   \n",
       "top     SUB000456  application  Server Based Application  WBS000073   \n",
       "freq         3050        32900                     18811      13342   \n",
       "\n",
       "       Incident_ID  Status Impact  Urgency  Category  KB_number Alert_Status  \\\n",
       "count        46606   46606  46606    46606     46606      46606        46606   \n",
       "unique       46606       2      6       11         4       1825            1   \n",
       "top      IM0000004  Closed      4        4  incident  KM0001106       closed   \n",
       "freq             1   46597  22556    15526     37748       1106        46606   \n",
       "\n",
       "               Open_Time       Reopen_Time     Resolved_Time       Close_Time  \\\n",
       "count              46606              2284             44826            46606   \n",
       "unique             34636              2244             33627            34528   \n",
       "top     24-03-2014 08:54  29-10-2013 15:03  10/10/2013 12:53  2/10/2013 15:20   \n",
       "freq                   7                 2                 7               21   \n",
       "\n",
       "       Handle_Time_hrs Closure_Code Related_Interaction Related_Change  \n",
       "count            46605        46146               46606            560  \n",
       "unique           30638           14               43060            232  \n",
       "top                  0        Other         #MULTIVALUE      C00003013  \n",
       "freq               236        16470                3434            110  "
      ]
     },
     "execution_count": 12,
     "metadata": {},
     "output_type": "execute_result"
    }
   ],
   "source": [
    "data.describe(include=\"object\")"
   ]
  },
  {
   "cell_type": "code",
   "execution_count": 13,
   "metadata": {},
   "outputs": [
    {
     "data": {
      "text/html": [
       "<div>\n",
       "<style scoped>\n",
       "    .dataframe tbody tr th:only-of-type {\n",
       "        vertical-align: middle;\n",
       "    }\n",
       "\n",
       "    .dataframe tbody tr th {\n",
       "        vertical-align: top;\n",
       "    }\n",
       "\n",
       "    .dataframe thead th {\n",
       "        text-align: right;\n",
       "    }\n",
       "</style>\n",
       "<table border=\"1\" class=\"dataframe\">\n",
       "  <thead>\n",
       "    <tr style=\"text-align: right;\">\n",
       "      <th></th>\n",
       "      <th>CI_Name</th>\n",
       "      <th>CI_Cat</th>\n",
       "      <th>CI_Subcat</th>\n",
       "      <th>WBS</th>\n",
       "      <th>Incident_ID</th>\n",
       "      <th>Status</th>\n",
       "      <th>Impact</th>\n",
       "      <th>Urgency</th>\n",
       "      <th>Priority</th>\n",
       "      <th>number_cnt</th>\n",
       "      <th>...</th>\n",
       "      <th>Reopen_Time</th>\n",
       "      <th>Resolved_Time</th>\n",
       "      <th>Close_Time</th>\n",
       "      <th>Handle_Time_hrs</th>\n",
       "      <th>Closure_Code</th>\n",
       "      <th>No_of_Related_Interactions</th>\n",
       "      <th>Related_Interaction</th>\n",
       "      <th>No_of_Related_Incidents</th>\n",
       "      <th>No_of_Related_Changes</th>\n",
       "      <th>Related_Change</th>\n",
       "    </tr>\n",
       "  </thead>\n",
       "  <tbody>\n",
       "    <tr>\n",
       "      <th>5047</th>\n",
       "      <td>SUB000424</td>\n",
       "      <td>subapplication</td>\n",
       "      <td>Web Based Application</td>\n",
       "      <td>WBS000073</td>\n",
       "      <td>IM0005181</td>\n",
       "      <td>Closed</td>\n",
       "      <td>5</td>\n",
       "      <td>5</td>\n",
       "      <td>5.0</td>\n",
       "      <td>0.310589</td>\n",
       "      <td>...</td>\n",
       "      <td>NaN</td>\n",
       "      <td>17-10-2013 15:56</td>\n",
       "      <td>17-10-2013 15:56</td>\n",
       "      <td>34,42</td>\n",
       "      <td>Data</td>\n",
       "      <td>1.0</td>\n",
       "      <td>SD0012814</td>\n",
       "      <td>NaN</td>\n",
       "      <td>NaN</td>\n",
       "      <td>NaN</td>\n",
       "    </tr>\n",
       "    <tr>\n",
       "      <th>6664</th>\n",
       "      <td>APP000004</td>\n",
       "      <td>application</td>\n",
       "      <td>Citrix</td>\n",
       "      <td>WBS000098</td>\n",
       "      <td>IM0006816</td>\n",
       "      <td>Closed</td>\n",
       "      <td>4</td>\n",
       "      <td>4</td>\n",
       "      <td>4.0</td>\n",
       "      <td>0.707604</td>\n",
       "      <td>...</td>\n",
       "      <td>NaN</td>\n",
       "      <td>24-10-2013 09:02</td>\n",
       "      <td>24-10-2013 09:03</td>\n",
       "      <td>2,99,72,77,778</td>\n",
       "      <td>Other</td>\n",
       "      <td>1.0</td>\n",
       "      <td>SD0017726</td>\n",
       "      <td>NaN</td>\n",
       "      <td>NaN</td>\n",
       "      <td>NaN</td>\n",
       "    </tr>\n",
       "    <tr>\n",
       "      <th>30714</th>\n",
       "      <td>SBA000759</td>\n",
       "      <td>application</td>\n",
       "      <td>Server Based Application</td>\n",
       "      <td>WBS000296</td>\n",
       "      <td>IM0030999</td>\n",
       "      <td>Closed</td>\n",
       "      <td>3</td>\n",
       "      <td>3</td>\n",
       "      <td>3.0</td>\n",
       "      <td>0.666685</td>\n",
       "      <td>...</td>\n",
       "      <td>NaN</td>\n",
       "      <td>24-01-2014 14:39</td>\n",
       "      <td>24-01-2014 14:39</td>\n",
       "      <td>0,373611111</td>\n",
       "      <td>User error</td>\n",
       "      <td>1.0</td>\n",
       "      <td>SD0094214</td>\n",
       "      <td>NaN</td>\n",
       "      <td>NaN</td>\n",
       "      <td>NaN</td>\n",
       "    </tr>\n",
       "    <tr>\n",
       "      <th>17250</th>\n",
       "      <td>SBA000072</td>\n",
       "      <td>application</td>\n",
       "      <td>Server Based Application</td>\n",
       "      <td>WBS000244</td>\n",
       "      <td>IM0017466</td>\n",
       "      <td>Closed</td>\n",
       "      <td>4</td>\n",
       "      <td>4</td>\n",
       "      <td>4.0</td>\n",
       "      <td>0.447431</td>\n",
       "      <td>...</td>\n",
       "      <td>NaN</td>\n",
       "      <td>28-11-2013 08:45</td>\n",
       "      <td>28-11-2013 08:46</td>\n",
       "      <td>2,36,69,44,444</td>\n",
       "      <td>User error</td>\n",
       "      <td>1.0</td>\n",
       "      <td>SD0050101</td>\n",
       "      <td>NaN</td>\n",
       "      <td>NaN</td>\n",
       "      <td>NaN</td>\n",
       "    </tr>\n",
       "    <tr>\n",
       "      <th>7345</th>\n",
       "      <td>SBA000607</td>\n",
       "      <td>application</td>\n",
       "      <td>Server Based Application</td>\n",
       "      <td>WBS000263</td>\n",
       "      <td>IM0007502</td>\n",
       "      <td>Closed</td>\n",
       "      <td>5</td>\n",
       "      <td>5</td>\n",
       "      <td>5.0</td>\n",
       "      <td>0.222536</td>\n",
       "      <td>...</td>\n",
       "      <td>NaN</td>\n",
       "      <td>24-10-2013 08:47</td>\n",
       "      <td>24-10-2013 08:47</td>\n",
       "      <td>1,17,95,83,333</td>\n",
       "      <td>Other</td>\n",
       "      <td>1.0</td>\n",
       "      <td>SD0019605</td>\n",
       "      <td>NaN</td>\n",
       "      <td>NaN</td>\n",
       "      <td>NaN</td>\n",
       "    </tr>\n",
       "  </tbody>\n",
       "</table>\n",
       "<p>5 rows × 25 columns</p>\n",
       "</div>"
      ],
      "text/plain": [
       "         CI_Name          CI_Cat                 CI_Subcat        WBS  \\\n",
       "5047   SUB000424  subapplication     Web Based Application  WBS000073   \n",
       "6664   APP000004     application                    Citrix  WBS000098   \n",
       "30714  SBA000759     application  Server Based Application  WBS000296   \n",
       "17250  SBA000072     application  Server Based Application  WBS000244   \n",
       "7345   SBA000607     application  Server Based Application  WBS000263   \n",
       "\n",
       "      Incident_ID  Status Impact Urgency  Priority  number_cnt  ...  \\\n",
       "5047    IM0005181  Closed      5       5       5.0    0.310589  ...   \n",
       "6664    IM0006816  Closed      4       4       4.0    0.707604  ...   \n",
       "30714   IM0030999  Closed      3       3       3.0    0.666685  ...   \n",
       "17250   IM0017466  Closed      4       4       4.0    0.447431  ...   \n",
       "7345    IM0007502  Closed      5       5       5.0    0.222536  ...   \n",
       "\n",
       "      Reopen_Time     Resolved_Time        Close_Time  Handle_Time_hrs  \\\n",
       "5047          NaN  17-10-2013 15:56  17-10-2013 15:56            34,42   \n",
       "6664          NaN  24-10-2013 09:02  24-10-2013 09:03   2,99,72,77,778   \n",
       "30714         NaN  24-01-2014 14:39  24-01-2014 14:39      0,373611111   \n",
       "17250         NaN  28-11-2013 08:45  28-11-2013 08:46   2,36,69,44,444   \n",
       "7345          NaN  24-10-2013 08:47  24-10-2013 08:47   1,17,95,83,333   \n",
       "\n",
       "      Closure_Code No_of_Related_Interactions Related_Interaction  \\\n",
       "5047          Data                        1.0           SD0012814   \n",
       "6664         Other                        1.0           SD0017726   \n",
       "30714   User error                        1.0           SD0094214   \n",
       "17250   User error                        1.0           SD0050101   \n",
       "7345         Other                        1.0           SD0019605   \n",
       "\n",
       "      No_of_Related_Incidents No_of_Related_Changes Related_Change  \n",
       "5047                      NaN                   NaN            NaN  \n",
       "6664                      NaN                   NaN            NaN  \n",
       "30714                     NaN                   NaN            NaN  \n",
       "17250                     NaN                   NaN            NaN  \n",
       "7345                      NaN                   NaN            NaN  \n",
       "\n",
       "[5 rows x 25 columns]"
      ]
     },
     "execution_count": 13,
     "metadata": {},
     "output_type": "execute_result"
    }
   ],
   "source": [
    "data.sample(5)"
   ]
  },
  {
   "cell_type": "markdown",
   "metadata": {},
   "source": [
    "# **Data Preprocessing**"
   ]
  },
  {
   "cell_type": "code",
   "execution_count": 14,
   "metadata": {},
   "outputs": [],
   "source": [
    "data.drop([\"CI_Name\", \"WBS\", \"Incident_ID\", \"KB_number\", \"Related_Interaction\",\"Related_Change\",\"Open_Time\",\"Close_Time\",\"Resolved_Time\",\"Handle_Time_hrs\"], axis=1, inplace=True)"
   ]
  },
  {
   "cell_type": "code",
   "execution_count": 15,
   "metadata": {},
   "outputs": [
    {
     "data": {
      "text/plain": [
       "Index(['CI_Cat', 'CI_Subcat', 'Status', 'Impact', 'Urgency', 'Category',\n",
       "       'Alert_Status', 'Reopen_Time', 'Closure_Code'],\n",
       "      dtype='object')"
      ]
     },
     "execution_count": 15,
     "metadata": {},
     "output_type": "execute_result"
    }
   ],
   "source": [
    "cat_data=data.select_dtypes(include=[\"O\"]).columns\n",
    "cat_data"
   ]
  },
  {
   "cell_type": "code",
   "execution_count": 16,
   "metadata": {},
   "outputs": [
    {
     "name": "stdout",
     "output_type": "stream",
     "text": [
      "CI_Cat ['subapplication' 'application' 'computer' nan 'displaydevice' 'software'\n",
      " 'storage' 'database' 'hardware' 'officeelectronics' 'networkcomponents'\n",
      " 'applicationcomponent' 'Phone']\n",
      "CI_Cat\n",
      "application             32900\n",
      "subapplication           7782\n",
      "computer                 3643\n",
      "storage                   703\n",
      "hardware                  442\n",
      "software                  333\n",
      "database                  214\n",
      "displaydevice             212\n",
      "officeelectronics         152\n",
      "networkcomponents         107\n",
      "applicationcomponent        5\n",
      "Phone                       2\n",
      "Name: count, dtype: int64\n",
      "----------------------------\n",
      "CI_Subcat ['Web Based Application' 'Desktop Application' 'Server Based Application'\n",
      " 'SAP' 'Client Based Application' 'Citrix' 'Standard Application'\n",
      " 'Windows Server' 'Laptop' 'Linux Server' nan 'Monitor'\n",
      " 'Automation Software' 'SAN' 'Banking Device' 'Desktop' 'Database'\n",
      " 'Oracle Server' 'Keyboard' 'Printer' 'Exchange' 'System Software' 'VDI'\n",
      " 'Encryption' 'Omgeving' 'MigratieDummy' 'Scanner' 'Controller'\n",
      " 'DataCenterEquipment' 'KVM Switches' 'Switch' 'Database Software'\n",
      " 'Network Component' 'Unix Server' 'Lines' 'ESX Cluster' 'zOS Server'\n",
      " 'SharePoint Farm' 'NonStop Server' 'Application Server'\n",
      " 'Security Software' 'Thin Client' 'zOS Cluster' 'Router' 'VMWare'\n",
      " 'Net Device' 'Neoview Server' 'MQ Queue Manager' 'UPS' 'Number'\n",
      " 'Iptelephony' 'Windows Server in extern beheer' 'Modem' 'X86 Server'\n",
      " 'ESX Server' 'Virtual Tape Server' 'IPtelephony' 'NonStop Harddisk'\n",
      " 'Firewall' 'RAC Service' 'zOS Systeem' 'Instance' 'NonStop Storage'\n",
      " 'Protocol' 'Tape Library']\n",
      "CI_Subcat\n",
      "Server Based Application    18811\n",
      "Web Based Application       15311\n",
      "Desktop Application          3876\n",
      "Laptop                       1921\n",
      "SAP                          1199\n",
      "                            ...  \n",
      "VMWare                          1\n",
      "Application Server              1\n",
      "NonStop Storage                 1\n",
      "Protocol                        1\n",
      "Security Software               1\n",
      "Name: count, Length: 64, dtype: int64\n",
      "----------------------------\n",
      "Status ['Closed' 'Work in progress']\n",
      "Status\n",
      "Closed              46597\n",
      "Work in progress        9\n",
      "Name: count, dtype: int64\n",
      "----------------------------\n",
      "Impact ['4' '3' 'NS' '5' '2' '1']\n",
      "Impact\n",
      "4     22556\n",
      "5     16741\n",
      "3      5234\n",
      "NS     1380\n",
      "2       692\n",
      "1         3\n",
      "Name: count, dtype: int64\n",
      "----------------------------\n",
      "Urgency [4 3 5 2 1 '5' '3' '4' '2' '1' '5 - Very Low']\n",
      "Urgency\n",
      "4               15526\n",
      "5               12284\n",
      "4                7062\n",
      "5                4495\n",
      "3                4419\n",
      "3                2117\n",
      "2                 538\n",
      "2                 158\n",
      "1                   5\n",
      "1                   1\n",
      "5 - Very Low        1\n",
      "Name: count, dtype: int64\n",
      "----------------------------\n",
      "Category ['incident' 'request for information' 'complaint' 'request for change']\n",
      "Category\n",
      "incident                   37748\n",
      "request for information     8846\n",
      "complaint                     11\n",
      "request for change             1\n",
      "Name: count, dtype: int64\n",
      "----------------------------\n",
      "Alert_Status ['closed']\n",
      "Alert_Status\n",
      "closed    46606\n",
      "Name: count, dtype: int64\n",
      "----------------------------\n",
      "Reopen_Time [nan '2/12/2013 12:31' '28-01-2014 14:07' ... '31-03-2014 10:20'\n",
      " '31-03-2014 10:55' '31-03-2014 16:21']\n",
      "Reopen_Time\n",
      "29-10-2013 15:03    2\n",
      "17-01-2014 10:47    2\n",
      "15-10-2013 09:46    2\n",
      "17-02-2014 13:42    2\n",
      "13-12-2013 16:20    2\n",
      "                   ..\n",
      "15-11-2013 14:02    1\n",
      "15-11-2013 08:38    1\n",
      "14-11-2013 14:17    1\n",
      "25-11-2013 16:14    1\n",
      "31-03-2014 16:21    1\n",
      "Name: count, Length: 2244, dtype: int64\n",
      "----------------------------\n",
      "Closure_Code ['Other' 'Software' 'No error - works as designed' 'Operator error'\n",
      " 'Unknown' 'Data' 'Referred' 'Hardware' 'Questions' 'User error' 'Inquiry'\n",
      " 'User manual not used' 'Kwaliteit van de output' nan 'Overig']\n",
      "Closure_Code\n",
      "Other                           16470\n",
      "Software                        13027\n",
      "User error                       3554\n",
      "No error - works as designed     3530\n",
      "Hardware                         2999\n",
      "Data                             2209\n",
      "Unknown                          1590\n",
      "Operator error                   1539\n",
      "User manual not used              765\n",
      "Inquiry                           162\n",
      "Referred                          158\n",
      "Questions                         132\n",
      "Kwaliteit van de output            10\n",
      "Overig                              1\n",
      "Name: count, dtype: int64\n",
      "----------------------------\n"
     ]
    }
   ],
   "source": [
    "for i in cat_data:\n",
    "  print(i,data[i].unique())\n",
    "  print(data[i].value_counts())\n",
    "  print(\"----------------------------\")"
   ]
  },
  {
   "cell_type": "code",
   "execution_count": 17,
   "metadata": {},
   "outputs": [
    {
     "data": {
      "text/plain": [
       "Index(['Priority', 'number_cnt', 'No_of_Reassignments',\n",
       "       'No_of_Related_Interactions', 'No_of_Related_Incidents',\n",
       "       'No_of_Related_Changes'],\n",
       "      dtype='object')"
      ]
     },
     "execution_count": 17,
     "metadata": {},
     "output_type": "execute_result"
    }
   ],
   "source": [
    "num_data=data.select_dtypes(include=[\"float64\",\"int64\"]).columns\n",
    "num_data"
   ]
  },
  {
   "cell_type": "markdown",
   "metadata": {},
   "source": [
    "Unique value will be 1 for constant column.Here, Alert_Status is the constant feature. so we drop the column."
   ]
  },
  {
   "cell_type": "code",
   "execution_count": 18,
   "metadata": {},
   "outputs": [],
   "source": [
    "data.drop([\"Alert_Status\"],axis=1,inplace=True)"
   ]
  },
  {
   "cell_type": "markdown",
   "metadata": {},
   "source": [
    "## **Replacing Null Values**"
   ]
  },
  {
   "cell_type": "markdown",
   "metadata": {},
   "source": [
    "### **Replacing Null Values for CI_Cat**"
   ]
  },
  {
   "cell_type": "code",
   "execution_count": 19,
   "metadata": {},
   "outputs": [
    {
     "data": {
      "text/plain": [
       "316      NaN\n",
       "538      NaN\n",
       "593      NaN\n",
       "670      NaN\n",
       "1128     NaN\n",
       "        ... \n",
       "34462    NaN\n",
       "34868    NaN\n",
       "36150    NaN\n",
       "38262    NaN\n",
       "38429    NaN\n",
       "Name: CI_Cat, Length: 111, dtype: object"
      ]
     },
     "execution_count": 19,
     "metadata": {},
     "output_type": "execute_result"
    }
   ],
   "source": [
    "data[data[\"CI_Cat\"].isnull()][\"CI_Cat\"]"
   ]
  },
  {
   "cell_type": "code",
   "execution_count": 20,
   "metadata": {},
   "outputs": [
    {
     "data": {
      "text/plain": [
       "([0, 1, 2, 3, 4, 5, 6, 7, 8, 9, 10, 11],\n",
       " [Text(0, 0, 'subapplication'),\n",
       "  Text(1, 0, 'application'),\n",
       "  Text(2, 0, 'computer'),\n",
       "  Text(3, 0, 'displaydevice'),\n",
       "  Text(4, 0, 'software'),\n",
       "  Text(5, 0, 'storage'),\n",
       "  Text(6, 0, 'database'),\n",
       "  Text(7, 0, 'hardware'),\n",
       "  Text(8, 0, 'officeelectronics'),\n",
       "  Text(9, 0, 'networkcomponents'),\n",
       "  Text(10, 0, 'applicationcomponent'),\n",
       "  Text(11, 0, 'Phone')])"
      ]
     },
     "execution_count": 20,
     "metadata": {},
     "output_type": "execute_result"
    },
    {
     "data": {
      "image/png": "[encoded data removed]",
      "text/plain": [
       "<Figure size 800x600 with 1 Axes>"
      ]
     },
     "metadata": {},
     "output_type": "display_data"
    }
   ],
   "source": [
    "plt.figure(figsize=(8,6))\n",
    "sns.histplot(data=data, x=data['CI_Cat'], kde=True)\n",
    "#sns.histplot(data=data, x=data[\"CI_Cat\"],order=data[\"CI_Cat\"].value_counts().index,kde=true)\n",
    "plt.xticks(rotation=45,ha=\"right\")"
   ]
  },
  {
   "cell_type": "markdown",
   "metadata": {},
   "source": [
    "* The majority of the data is between 0 and 600.\n",
    "* There are a few outliers at the high end.\n",
    "* The median is slightly higher than the mode, which suggests that the data is somewhat skewed to the right."
   ]
  },
  {
   "cell_type": "code",
   "execution_count": 21,
   "metadata": {},
   "outputs": [
    {
     "data": {
      "text/plain": [
       "0    application\n",
       "Name: CI_Cat, dtype: object"
      ]
     },
     "execution_count": 21,
     "metadata": {},
     "output_type": "execute_result"
    }
   ],
   "source": [
    "data[\"CI_Cat\"].mode()"
   ]
  },
  {
   "cell_type": "code",
   "execution_count": 22,
   "metadata": {},
   "outputs": [
    {
     "data": {
      "text/plain": [
       "CI_Cat\n",
       "application             32900\n",
       "subapplication           7782\n",
       "computer                 3643\n",
       "storage                   703\n",
       "hardware                  442\n",
       "software                  333\n",
       "database                  214\n",
       "displaydevice             212\n",
       "officeelectronics         152\n",
       "networkcomponents         107\n",
       "applicationcomponent        5\n",
       "Phone                       2\n",
       "Name: count, dtype: int64"
      ]
     },
     "execution_count": 22,
     "metadata": {},
     "output_type": "execute_result"
    }
   ],
   "source": [
    "data.CI_Cat.unique()\n",
    "data.CI_Cat.value_counts()"
   ]
  },
  {
   "cell_type": "code",
   "execution_count": 23,
   "metadata": {},
   "outputs": [],
   "source": [
    "data.loc[data[\"CI_Cat\"].isnull()==True,\"CI_Cat\"]=\"application\""
   ]
  },
  {
   "cell_type": "code",
   "execution_count": 24,
   "metadata": {},
   "outputs": [
    {
     "data": {
      "text/plain": [
       "CI_Cat                            0\n",
       "CI_Subcat                       111\n",
       "Status                            0\n",
       "Impact                            0\n",
       "Urgency                           0\n",
       "Priority                       1380\n",
       "number_cnt                        0\n",
       "Category                          0\n",
       "No_of_Reassignments               1\n",
       "Reopen_Time                   44322\n",
       "Closure_Code                    460\n",
       "No_of_Related_Interactions      114\n",
       "No_of_Related_Incidents       45384\n",
       "No_of_Related_Changes         46046\n",
       "dtype: int64"
      ]
     },
     "execution_count": 24,
     "metadata": {},
     "output_type": "execute_result"
    }
   ],
   "source": [
    "data.isnull().sum()"
   ]
  },
  {
   "cell_type": "markdown",
   "metadata": {},
   "source": [
    "### **Replacing Null Values for CI_Subcat**"
   ]
  },
  {
   "cell_type": "code",
   "execution_count": 25,
   "metadata": {},
   "outputs": [
    {
     "data": {
      "text/plain": [
       "316      NaN\n",
       "538      NaN\n",
       "593      NaN\n",
       "670      NaN\n",
       "1128     NaN\n",
       "        ... \n",
       "34462    NaN\n",
       "34868    NaN\n",
       "36150    NaN\n",
       "38262    NaN\n",
       "38429    NaN\n",
       "Name: CI_Subcat, Length: 111, dtype: object"
      ]
     },
     "execution_count": 25,
     "metadata": {},
     "output_type": "execute_result"
    }
   ],
   "source": [
    "data[data[\"CI_Subcat\"].isnull()][\"CI_Subcat\"]"
   ]
  },
  {
   "cell_type": "code",
   "execution_count": 26,
   "metadata": {},
   "outputs": [
    {
     "data": {
      "text/plain": [
       "<Axes: xlabel='CI_Subcat', ylabel='Count'>"
      ]
     },
     "execution_count": 26,
     "metadata": {},
     "output_type": "execute_result"
    },
    {
     "data": {
      "image/png": "[encoded data removed]",
      "text/plain": [
       "<Figure size 800x600 with 1 Axes>"
      ]
     },
     "metadata": {},
     "output_type": "display_data"
    }
   ],
   "source": [
    "\n",
    "\n",
    "plt.figure(figsize=(8,6))\n",
    "sns.histplot(data=data, x=data['CI_Subcat'], kde=True)"
   ]
  },
  {
   "cell_type": "markdown",
   "metadata": {},
   "source": [
    "* The distribution of the CI_Subcat column is skewed to the right.\n",
    "* There is a small number of outliers at the high end, representing CI_Subcat values of In Progress and Not Started."
   ]
  },
  {
   "cell_type": "code",
   "execution_count": 27,
   "metadata": {},
   "outputs": [
    {
     "data": {
      "text/plain": [
       "0    Server Based Application\n",
       "Name: CI_Subcat, dtype: object"
      ]
     },
     "execution_count": 27,
     "metadata": {},
     "output_type": "execute_result"
    }
   ],
   "source": [
    "data[\"CI_Subcat\"].mode()"
   ]
  },
  {
   "cell_type": "code",
   "execution_count": 28,
   "metadata": {},
   "outputs": [
    {
     "data": {
      "text/plain": [
       "CI_Subcat\n",
       "Server Based Application    18811\n",
       "Web Based Application       15311\n",
       "Desktop Application          3876\n",
       "Laptop                       1921\n",
       "SAP                          1199\n",
       "                            ...  \n",
       "VMWare                          1\n",
       "Application Server              1\n",
       "NonStop Storage                 1\n",
       "Protocol                        1\n",
       "Security Software               1\n",
       "Name: count, Length: 64, dtype: int64"
      ]
     },
     "execution_count": 28,
     "metadata": {},
     "output_type": "execute_result"
    }
   ],
   "source": [
    "data.CI_Subcat.unique()\n",
    "data.CI_Subcat.value_counts()"
   ]
  },
  {
   "cell_type": "code",
   "execution_count": 29,
   "metadata": {},
   "outputs": [],
   "source": [
    "data.loc[data[\"CI_Subcat\"].isnull()==True,\"CI_Subcat\"]=\"Server Based Application\""
   ]
  },
  {
   "cell_type": "code",
   "execution_count": 30,
   "metadata": {},
   "outputs": [
    {
     "data": {
      "text/plain": [
       "CI_Cat                            0\n",
       "CI_Subcat                         0\n",
       "Status                            0\n",
       "Impact                            0\n",
       "Urgency                           0\n",
       "Priority                       1380\n",
       "number_cnt                        0\n",
       "Category                          0\n",
       "No_of_Reassignments               1\n",
       "Reopen_Time                   44322\n",
       "Closure_Code                    460\n",
       "No_of_Related_Interactions      114\n",
       "No_of_Related_Incidents       45384\n",
       "No_of_Related_Changes         46046\n",
       "dtype: int64"
      ]
     },
     "execution_count": 30,
     "metadata": {},
     "output_type": "execute_result"
    }
   ],
   "source": [
    "data.isnull().sum()"
   ]
  },
  {
   "cell_type": "markdown",
   "metadata": {},
   "source": [
    "### **Replacing Null Values for Priority**"
   ]
  },
  {
   "cell_type": "code",
   "execution_count": 31,
   "metadata": {},
   "outputs": [
    {
     "data": {
      "text/plain": [
       "2       NaN\n",
       "8       NaN\n",
       "103     NaN\n",
       "147     NaN\n",
       "152     NaN\n",
       "         ..\n",
       "46424   NaN\n",
       "46446   NaN\n",
       "46484   NaN\n",
       "46553   NaN\n",
       "46590   NaN\n",
       "Name: Priority, Length: 1380, dtype: float64"
      ]
     },
     "execution_count": 31,
     "metadata": {},
     "output_type": "execute_result"
    }
   ],
   "source": [
    "data[data[\"Priority\"].isnull()][\"Priority\"]"
   ]
  },
  {
   "cell_type": "code",
   "execution_count": 32,
   "metadata": {},
   "outputs": [
    {
     "data": {
      "text/plain": [
       "<Axes: xlabel='Priority', ylabel='Count'>"
      ]
     },
     "execution_count": 32,
     "metadata": {},
     "output_type": "execute_result"
    },
    {
     "data": {
      "image/png": "[encoded data removed]",
      "text/plain": [
       "<Figure size 800x600 with 1 Axes>"
      ]
     },
     "metadata": {},
     "output_type": "display_data"
    }
   ],
   "source": [
    "plt.figure(figsize=(8,6))\n",
    "sns.histplot(data=data, x=data['Priority'], kde=True)"
   ]
  },
  {
   "cell_type": "markdown",
   "metadata": {},
   "source": [
    "* The distribution of the data is skewed to the right, with most values between 20 and 50.\n",
    "* There are a few outliers at the high end, with values above 100."
   ]
  },
  {
   "cell_type": "code",
   "execution_count": 33,
   "metadata": {},
   "outputs": [
    {
     "data": {
      "text/plain": [
       "4.0"
      ]
     },
     "execution_count": 33,
     "metadata": {},
     "output_type": "execute_result"
    }
   ],
   "source": [
    "data[\"Priority\"].median()"
   ]
  },
  {
   "cell_type": "code",
   "execution_count": 34,
   "metadata": {},
   "outputs": [
    {
     "data": {
      "text/plain": [
       "0    4.0\n",
       "Name: Priority, dtype: float64"
      ]
     },
     "execution_count": 34,
     "metadata": {},
     "output_type": "execute_result"
    }
   ],
   "source": [
    "data[\"Priority\"].mode()"
   ]
  },
  {
   "cell_type": "code",
   "execution_count": 35,
   "metadata": {},
   "outputs": [],
   "source": [
    "data.loc[data[\"Priority\"].isnull()==True,\"Priority\"]=4.0"
   ]
  },
  {
   "cell_type": "code",
   "execution_count": 36,
   "metadata": {},
   "outputs": [
    {
     "data": {
      "text/plain": [
       "CI_Cat                            0\n",
       "CI_Subcat                         0\n",
       "Status                            0\n",
       "Impact                            0\n",
       "Urgency                           0\n",
       "Priority                          0\n",
       "number_cnt                        0\n",
       "Category                          0\n",
       "No_of_Reassignments               1\n",
       "Reopen_Time                   44322\n",
       "Closure_Code                    460\n",
       "No_of_Related_Interactions      114\n",
       "No_of_Related_Incidents       45384\n",
       "No_of_Related_Changes         46046\n",
       "dtype: int64"
      ]
     },
     "execution_count": 36,
     "metadata": {},
     "output_type": "execute_result"
    }
   ],
   "source": [
    "data.isnull().sum()"
   ]
  },
  {
   "cell_type": "code",
   "execution_count": 37,
   "metadata": {},
   "outputs": [
    {
     "data": {
      "text/html": [
       "<div>\n",
       "<style scoped>\n",
       "    .dataframe tbody tr th:only-of-type {\n",
       "        vertical-align: middle;\n",
       "    }\n",
       "\n",
       "    .dataframe tbody tr th {\n",
       "        vertical-align: top;\n",
       "    }\n",
       "\n",
       "    .dataframe thead th {\n",
       "        text-align: right;\n",
       "    }\n",
       "</style>\n",
       "<table border=\"1\" class=\"dataframe\">\n",
       "  <thead>\n",
       "    <tr style=\"text-align: right;\">\n",
       "      <th></th>\n",
       "      <th>CI_Cat</th>\n",
       "      <th>CI_Subcat</th>\n",
       "      <th>Status</th>\n",
       "      <th>Impact</th>\n",
       "      <th>Urgency</th>\n",
       "      <th>Priority</th>\n",
       "      <th>number_cnt</th>\n",
       "      <th>Category</th>\n",
       "      <th>No_of_Reassignments</th>\n",
       "      <th>Reopen_Time</th>\n",
       "      <th>Closure_Code</th>\n",
       "      <th>No_of_Related_Interactions</th>\n",
       "      <th>No_of_Related_Incidents</th>\n",
       "      <th>No_of_Related_Changes</th>\n",
       "    </tr>\n",
       "  </thead>\n",
       "  <tbody>\n",
       "    <tr>\n",
       "      <th>4360</th>\n",
       "      <td>application</td>\n",
       "      <td>Server Based Application</td>\n",
       "      <td>Closed</td>\n",
       "      <td>5</td>\n",
       "      <td>5</td>\n",
       "      <td>5.0</td>\n",
       "      <td>0.086909</td>\n",
       "      <td>incident</td>\n",
       "      <td>0.0</td>\n",
       "      <td>NaN</td>\n",
       "      <td>Software</td>\n",
       "      <td>1.0</td>\n",
       "      <td>NaN</td>\n",
       "      <td>NaN</td>\n",
       "    </tr>\n",
       "    <tr>\n",
       "      <th>24807</th>\n",
       "      <td>computer</td>\n",
       "      <td>Omgeving</td>\n",
       "      <td>Closed</td>\n",
       "      <td>4</td>\n",
       "      <td>4</td>\n",
       "      <td>4.0</td>\n",
       "      <td>0.667084</td>\n",
       "      <td>incident</td>\n",
       "      <td>0.0</td>\n",
       "      <td>NaN</td>\n",
       "      <td>Other</td>\n",
       "      <td>1.0</td>\n",
       "      <td>NaN</td>\n",
       "      <td>NaN</td>\n",
       "    </tr>\n",
       "    <tr>\n",
       "      <th>248</th>\n",
       "      <td>application</td>\n",
       "      <td>Web Based Application</td>\n",
       "      <td>Closed</td>\n",
       "      <td>4</td>\n",
       "      <td>4</td>\n",
       "      <td>4.0</td>\n",
       "      <td>0.187792</td>\n",
       "      <td>incident</td>\n",
       "      <td>4.0</td>\n",
       "      <td>NaN</td>\n",
       "      <td>Other</td>\n",
       "      <td>1.0</td>\n",
       "      <td>NaN</td>\n",
       "      <td>NaN</td>\n",
       "    </tr>\n",
       "    <tr>\n",
       "      <th>42165</th>\n",
       "      <td>database</td>\n",
       "      <td>Database</td>\n",
       "      <td>Closed</td>\n",
       "      <td>3</td>\n",
       "      <td>3</td>\n",
       "      <td>3.0</td>\n",
       "      <td>0.514197</td>\n",
       "      <td>incident</td>\n",
       "      <td>0.0</td>\n",
       "      <td>NaN</td>\n",
       "      <td>User error</td>\n",
       "      <td>1.0</td>\n",
       "      <td>NaN</td>\n",
       "      <td>NaN</td>\n",
       "    </tr>\n",
       "    <tr>\n",
       "      <th>6185</th>\n",
       "      <td>computer</td>\n",
       "      <td>Banking Device</td>\n",
       "      <td>Closed</td>\n",
       "      <td>4</td>\n",
       "      <td>4</td>\n",
       "      <td>4.0</td>\n",
       "      <td>0.834641</td>\n",
       "      <td>incident</td>\n",
       "      <td>1.0</td>\n",
       "      <td>NaN</td>\n",
       "      <td>Hardware</td>\n",
       "      <td>1.0</td>\n",
       "      <td>NaN</td>\n",
       "      <td>NaN</td>\n",
       "    </tr>\n",
       "    <tr>\n",
       "      <th>19435</th>\n",
       "      <td>application</td>\n",
       "      <td>Web Based Application</td>\n",
       "      <td>Closed</td>\n",
       "      <td>4</td>\n",
       "      <td>4</td>\n",
       "      <td>4.0</td>\n",
       "      <td>0.372640</td>\n",
       "      <td>incident</td>\n",
       "      <td>0.0</td>\n",
       "      <td>NaN</td>\n",
       "      <td>Other</td>\n",
       "      <td>1.0</td>\n",
       "      <td>NaN</td>\n",
       "      <td>NaN</td>\n",
       "    </tr>\n",
       "    <tr>\n",
       "      <th>9900</th>\n",
       "      <td>application</td>\n",
       "      <td>Server Based Application</td>\n",
       "      <td>Closed</td>\n",
       "      <td>5</td>\n",
       "      <td>5</td>\n",
       "      <td>5.0</td>\n",
       "      <td>0.218188</td>\n",
       "      <td>request for information</td>\n",
       "      <td>0.0</td>\n",
       "      <td>NaN</td>\n",
       "      <td>No error - works as designed</td>\n",
       "      <td>1.0</td>\n",
       "      <td>NaN</td>\n",
       "      <td>NaN</td>\n",
       "    </tr>\n",
       "    <tr>\n",
       "      <th>36613</th>\n",
       "      <td>application</td>\n",
       "      <td>Desktop Application</td>\n",
       "      <td>Closed</td>\n",
       "      <td>5</td>\n",
       "      <td>5</td>\n",
       "      <td>5.0</td>\n",
       "      <td>0.840995</td>\n",
       "      <td>request for information</td>\n",
       "      <td>0.0</td>\n",
       "      <td>NaN</td>\n",
       "      <td>Data</td>\n",
       "      <td>1.0</td>\n",
       "      <td>NaN</td>\n",
       "      <td>NaN</td>\n",
       "    </tr>\n",
       "    <tr>\n",
       "      <th>43755</th>\n",
       "      <td>application</td>\n",
       "      <td>Server Based Application</td>\n",
       "      <td>Closed</td>\n",
       "      <td>3</td>\n",
       "      <td>3</td>\n",
       "      <td>3.0</td>\n",
       "      <td>0.668521</td>\n",
       "      <td>incident</td>\n",
       "      <td>0.0</td>\n",
       "      <td>NaN</td>\n",
       "      <td>Other</td>\n",
       "      <td>1.0</td>\n",
       "      <td>NaN</td>\n",
       "      <td>NaN</td>\n",
       "    </tr>\n",
       "    <tr>\n",
       "      <th>39244</th>\n",
       "      <td>computer</td>\n",
       "      <td>Windows Server</td>\n",
       "      <td>Closed</td>\n",
       "      <td>4</td>\n",
       "      <td>4</td>\n",
       "      <td>4.0</td>\n",
       "      <td>0.618730</td>\n",
       "      <td>incident</td>\n",
       "      <td>5.0</td>\n",
       "      <td>NaN</td>\n",
       "      <td>Unknown</td>\n",
       "      <td>1.0</td>\n",
       "      <td>NaN</td>\n",
       "      <td>NaN</td>\n",
       "    </tr>\n",
       "  </tbody>\n",
       "</table>\n",
       "</div>"
      ],
      "text/plain": [
       "            CI_Cat                 CI_Subcat  Status Impact Urgency  Priority  \\\n",
       "4360   application  Server Based Application  Closed      5       5       5.0   \n",
       "24807     computer                  Omgeving  Closed      4       4       4.0   \n",
       "248    application     Web Based Application  Closed      4       4       4.0   \n",
       "42165     database                  Database  Closed      3       3       3.0   \n",
       "6185      computer            Banking Device  Closed      4       4       4.0   \n",
       "19435  application     Web Based Application  Closed      4       4       4.0   \n",
       "9900   application  Server Based Application  Closed      5       5       5.0   \n",
       "36613  application       Desktop Application  Closed      5       5       5.0   \n",
       "43755  application  Server Based Application  Closed      3       3       3.0   \n",
       "39244     computer            Windows Server  Closed      4       4       4.0   \n",
       "\n",
       "       number_cnt                 Category  No_of_Reassignments Reopen_Time  \\\n",
       "4360     0.086909                 incident                  0.0         NaN   \n",
       "24807    0.667084                 incident                  0.0         NaN   \n",
       "248      0.187792                 incident                  4.0         NaN   \n",
       "42165    0.514197                 incident                  0.0         NaN   \n",
       "6185     0.834641                 incident                  1.0         NaN   \n",
       "19435    0.372640                 incident                  0.0         NaN   \n",
       "9900     0.218188  request for information                  0.0         NaN   \n",
       "36613    0.840995  request for information                  0.0         NaN   \n",
       "43755    0.668521                 incident                  0.0         NaN   \n",
       "39244    0.618730                 incident                  5.0         NaN   \n",
       "\n",
       "                       Closure_Code  No_of_Related_Interactions  \\\n",
       "4360                       Software                         1.0   \n",
       "24807                         Other                         1.0   \n",
       "248                           Other                         1.0   \n",
       "42165                    User error                         1.0   \n",
       "6185                       Hardware                         1.0   \n",
       "19435                         Other                         1.0   \n",
       "9900   No error - works as designed                         1.0   \n",
       "36613                          Data                         1.0   \n",
       "43755                         Other                         1.0   \n",
       "39244                       Unknown                         1.0   \n",
       "\n",
       "       No_of_Related_Incidents  No_of_Related_Changes  \n",
       "4360                       NaN                    NaN  \n",
       "24807                      NaN                    NaN  \n",
       "248                        NaN                    NaN  \n",
       "42165                      NaN                    NaN  \n",
       "6185                       NaN                    NaN  \n",
       "19435                      NaN                    NaN  \n",
       "9900                       NaN                    NaN  \n",
       "36613                      NaN                    NaN  \n",
       "43755                      NaN                    NaN  \n",
       "39244                      NaN                    NaN  "
      ]
     },
     "execution_count": 37,
     "metadata": {},
     "output_type": "execute_result"
    }
   ],
   "source": [
    "data.sample(10)"
   ]
  },
  {
   "cell_type": "markdown",
   "metadata": {},
   "source": [
    "### **Remove the row with the null value for No_of_Reassignments**"
   ]
  },
  {
   "cell_type": "code",
   "execution_count": 38,
   "metadata": {},
   "outputs": [],
   "source": [
    "# Remove the row with the null value in the 'No_of_Reassignments' column\n",
    "data = data.dropna(subset=['No_of_Reassignments'])"
   ]
  },
  {
   "cell_type": "code",
   "execution_count": 39,
   "metadata": {},
   "outputs": [
    {
     "data": {
      "text/plain": [
       "CI_Cat                            0\n",
       "CI_Subcat                         0\n",
       "Status                            0\n",
       "Impact                            0\n",
       "Urgency                           0\n",
       "Priority                          0\n",
       "number_cnt                        0\n",
       "Category                          0\n",
       "No_of_Reassignments               0\n",
       "Reopen_Time                   44321\n",
       "Closure_Code                    460\n",
       "No_of_Related_Interactions      114\n",
       "No_of_Related_Incidents       45383\n",
       "No_of_Related_Changes         46045\n",
       "dtype: int64"
      ]
     },
     "execution_count": 39,
     "metadata": {},
     "output_type": "execute_result"
    }
   ],
   "source": [
    "data.isnull().sum()"
   ]
  },
  {
   "cell_type": "markdown",
   "metadata": {},
   "source": [
    "### **Replacing Null Values for Closure_Code**"
   ]
  },
  {
   "cell_type": "code",
   "execution_count": 40,
   "metadata": {},
   "outputs": [
    {
     "data": {
      "text/plain": [
       "9275     NaN\n",
       "9488     NaN\n",
       "9698     NaN\n",
       "9989     NaN\n",
       "10045    NaN\n",
       "        ... \n",
       "46077    NaN\n",
       "46247    NaN\n",
       "46291    NaN\n",
       "46357    NaN\n",
       "46413    NaN\n",
       "Name: Closure_Code, Length: 460, dtype: object"
      ]
     },
     "execution_count": 40,
     "metadata": {},
     "output_type": "execute_result"
    }
   ],
   "source": [
    "data[data[\"Closure_Code\"].isnull()][\"Closure_Code\"]"
   ]
  },
  {
   "cell_type": "code",
   "execution_count": 41,
   "metadata": {},
   "outputs": [
    {
     "data": {
      "text/plain": [
       "<Axes: xlabel='Closure_Code', ylabel='Count'>"
      ]
     },
     "execution_count": 41,
     "metadata": {},
     "output_type": "execute_result"
    },
    {
     "data": {
      "image/png": "[encoded data removed]",
      "text/plain": [
       "<Figure size 800x600 with 1 Axes>"
      ]
     },
     "metadata": {},
     "output_type": "display_data"
    }
   ],
   "source": [
    "plt.figure(figsize=(8,6))\n",
    "sns.histplot(data=data, x=data['Closure_Code'], kde=True)"
   ]
  },
  {
   "cell_type": "code",
   "execution_count": 42,
   "metadata": {},
   "outputs": [
    {
     "data": {
      "text/plain": [
       "0    Other\n",
       "Name: Closure_Code, dtype: object"
      ]
     },
     "execution_count": 42,
     "metadata": {},
     "output_type": "execute_result"
    }
   ],
   "source": [
    "data[\"Closure_Code\"].mode()"
   ]
  },
  {
   "cell_type": "code",
   "execution_count": 43,
   "metadata": {},
   "outputs": [
    {
     "data": {
      "text/plain": [
       "Closure_Code\n",
       "Other                           16470\n",
       "Software                        13026\n",
       "User error                       3554\n",
       "No error - works as designed     3530\n",
       "Hardware                         2999\n",
       "Data                             2209\n",
       "Unknown                          1590\n",
       "Operator error                   1539\n",
       "User manual not used              765\n",
       "Inquiry                           162\n",
       "Referred                          158\n",
       "Questions                         132\n",
       "Kwaliteit van de output            10\n",
       "Overig                              1\n",
       "Name: count, dtype: int64"
      ]
     },
     "execution_count": 43,
     "metadata": {},
     "output_type": "execute_result"
    }
   ],
   "source": [
    "data.Closure_Code.unique()\n",
    "data.Closure_Code.value_counts()"
   ]
  },
  {
   "cell_type": "code",
   "execution_count": 44,
   "metadata": {},
   "outputs": [],
   "source": [
    "data.loc[data[\"Closure_Code\"].isnull()==True,\"Closure_Code\"]=\"other\""
   ]
  },
  {
   "cell_type": "code",
   "execution_count": 45,
   "metadata": {},
   "outputs": [
    {
     "data": {
      "text/plain": [
       "CI_Cat                            0\n",
       "CI_Subcat                         0\n",
       "Status                            0\n",
       "Impact                            0\n",
       "Urgency                           0\n",
       "Priority                          0\n",
       "number_cnt                        0\n",
       "Category                          0\n",
       "No_of_Reassignments               0\n",
       "Reopen_Time                   44321\n",
       "Closure_Code                      0\n",
       "No_of_Related_Interactions      114\n",
       "No_of_Related_Incidents       45383\n",
       "No_of_Related_Changes         46045\n",
       "dtype: int64"
      ]
     },
     "execution_count": 45,
     "metadata": {},
     "output_type": "execute_result"
    }
   ],
   "source": [
    "data.isnull().sum()"
   ]
  },
  {
   "cell_type": "markdown",
   "metadata": {},
   "source": [
    "## **Replacing Null Values for No_of_Related_Interactions**"
   ]
  },
  {
   "cell_type": "code",
   "execution_count": 46,
   "metadata": {},
   "outputs": [
    {
     "name": "stdout",
     "output_type": "stream",
     "text": [
      "<class 'pandas.core.frame.DataFrame'>\n",
      "Index: 46605 entries, 0 to 46605\n",
      "Data columns (total 14 columns):\n",
      " #   Column                      Non-Null Count  Dtype  \n",
      "---  ------                      --------------  -----  \n",
      " 0   CI_Cat                      46605 non-null  object \n",
      " 1   CI_Subcat                   46605 non-null  object \n",
      " 2   Status                      46605 non-null  object \n",
      " 3   Impact                      46605 non-null  object \n",
      " 4   Urgency                     46605 non-null  object \n",
      " 5   Priority                    46605 non-null  float64\n",
      " 6   number_cnt                  46605 non-null  float64\n",
      " 7   Category                    46605 non-null  object \n",
      " 8   No_of_Reassignments         46605 non-null  float64\n",
      " 9   Reopen_Time                 2284 non-null   object \n",
      " 10  Closure_Code                46605 non-null  object \n",
      " 11  No_of_Related_Interactions  46491 non-null  float64\n",
      " 12  No_of_Related_Incidents     1222 non-null   float64\n",
      " 13  No_of_Related_Changes       560 non-null    float64\n",
      "dtypes: float64(6), object(8)\n",
      "memory usage: 5.3+ MB\n"
     ]
    }
   ],
   "source": [
    "data.info()"
   ]
  },
  {
   "cell_type": "code",
   "execution_count": 47,
   "metadata": {},
   "outputs": [
    {
     "data": {
      "text/plain": [
       "114"
      ]
     },
     "execution_count": 47,
     "metadata": {},
     "output_type": "execute_result"
    }
   ],
   "source": [
    "data.No_of_Related_Interactions.isnull().sum()"
   ]
  },
  {
   "cell_type": "code",
   "execution_count": 48,
   "metadata": {},
   "outputs": [
    {
     "data": {
      "text/plain": [
       "No_of_Related_Interactions\n",
       "1.0      43057\n",
       "2.0       2736\n",
       "3.0        429\n",
       "4.0        124\n",
       "5.0         30\n",
       "6.0         16\n",
       "7.0         12\n",
       "8.0          6\n",
       "12.0         6\n",
       "9.0          5\n",
       "20.0         5\n",
       "13.0         4\n",
       "42.0         3\n",
       "22.0         3\n",
       "19.0         3\n",
       "10.0         3\n",
       "15.0         3\n",
       "39.0         2\n",
       "26.0         2\n",
       "11.0         2\n",
       "33.0         2\n",
       "44.0         2\n",
       "17.0         2\n",
       "16.0         2\n",
       "14.0         2\n",
       "23.0         2\n",
       "45.0         2\n",
       "18.0         2\n",
       "34.0         2\n",
       "29.0         2\n",
       "28.0         2\n",
       "55.0         1\n",
       "43.0         1\n",
       "25.0         1\n",
       "27.0         1\n",
       "370.0        1\n",
       "40.0         1\n",
       "37.0         1\n",
       "57.0         1\n",
       "118.0        1\n",
       "24.0         1\n",
       "74.0         1\n",
       "41.0         1\n",
       "30.0         1\n",
       "88.0         1\n",
       "31.0         1\n",
       "54.0         1\n",
       "288.0        1\n",
       "21.0         1\n",
       "Name: count, dtype: int64"
      ]
     },
     "execution_count": 48,
     "metadata": {},
     "output_type": "execute_result"
    }
   ],
   "source": [
    "data.No_of_Related_Interactions.unique()\n",
    "data.No_of_Related_Interactions.value_counts()"
   ]
  },
  {
   "cell_type": "code",
   "execution_count": 49,
   "metadata": {},
   "outputs": [],
   "source": [
    "#data[data[\"No_of_Related_Interactions\"].isnull()][\"No_of_Related_Interactions\"]#data[data[\"No_of_Related_Interactions\"].isnull()][\"No_of_Related_Interactions\"]"
   ]
  },
  {
   "cell_type": "code",
   "execution_count": 50,
   "metadata": {},
   "outputs": [
    {
     "data": {
      "text/plain": [
       "<Axes: xlabel='No_of_Related_Interactions', ylabel='Count'>"
      ]
     },
     "execution_count": 50,
     "metadata": {},
     "output_type": "execute_result"
    },
    {
     "data": {
      "image/png": "[encoded data removed]",
      "text/plain": [
       "<Figure size 400x400 with 1 Axes>"
      ]
     },
     "metadata": {},
     "output_type": "display_data"
    }
   ],
   "source": [
    "plt.figure(figsize=(4,4))\n",
    "sns.histplot(data=data, x=data['No_of_Related_Interactions'], kde=True)"
   ]
  },
  {
   "cell_type": "code",
   "execution_count": 51,
   "metadata": {},
   "outputs": [
    {
     "data": {
      "text/plain": [
       "1.0"
      ]
     },
     "execution_count": 51,
     "metadata": {},
     "output_type": "execute_result"
    }
   ],
   "source": [
    "data[\"No_of_Related_Interactions\"].median()"
   ]
  },
  {
   "cell_type": "code",
   "execution_count": 52,
   "metadata": {},
   "outputs": [
    {
     "data": {
      "text/plain": [
       "0    1.0\n",
       "Name: No_of_Related_Interactions, dtype: float64"
      ]
     },
     "execution_count": 52,
     "metadata": {},
     "output_type": "execute_result"
    }
   ],
   "source": [
    "data[\"No_of_Related_Interactions\"].mode()"
   ]
  },
  {
   "cell_type": "code",
   "execution_count": 53,
   "metadata": {},
   "outputs": [],
   "source": [
    "data.loc[data[\"No_of_Related_Interactions\"].isnull()==True,\"No_of_Related_Interactions\"]=1.0"
   ]
  },
  {
   "cell_type": "code",
   "execution_count": 54,
   "metadata": {},
   "outputs": [
    {
     "data": {
      "text/plain": [
       "0"
      ]
     },
     "execution_count": 54,
     "metadata": {},
     "output_type": "execute_result"
    }
   ],
   "source": [
    "data.No_of_Related_Interactions.isnull().sum()"
   ]
  },
  {
   "cell_type": "markdown",
   "metadata": {},
   "source": [
    "## Check the Missing Values in percentage"
   ]
  },
  {
   "cell_type": "code",
   "execution_count": 55,
   "metadata": {},
   "outputs": [
    {
     "data": {
      "text/plain": [
       "CI_Cat                         0.000000\n",
       "CI_Subcat                      0.000000\n",
       "Status                         0.000000\n",
       "Impact                         0.000000\n",
       "Urgency                        0.000000\n",
       "Priority                       0.000000\n",
       "number_cnt                     0.000000\n",
       "Category                       0.000000\n",
       "No_of_Reassignments            0.000000\n",
       "Reopen_Time                   95.099238\n",
       "Closure_Code                   0.000000\n",
       "No_of_Related_Interactions     0.000000\n",
       "No_of_Related_Incidents       97.377964\n",
       "No_of_Related_Changes         98.798412\n",
       "dtype: float64"
      ]
     },
     "execution_count": 55,
     "metadata": {},
     "output_type": "execute_result"
    }
   ],
   "source": [
    "data.isnull().sum()/len(data)*100"
   ]
  },
  {
   "cell_type": "markdown",
   "metadata": {},
   "source": [
    "Here, The Data shows Reopen Time,No of Related Interactions and No of Related Changes are above 95% of missing values. so we drop these columns."
   ]
  },
  {
   "cell_type": "code",
   "execution_count": 56,
   "metadata": {},
   "outputs": [],
   "source": [
    "data.drop(\"No_of_Related_Changes\",axis=1,inplace=True)"
   ]
  },
  {
   "cell_type": "code",
   "execution_count": 57,
   "metadata": {},
   "outputs": [],
   "source": [
    "data.drop(\"No_of_Related_Incidents\",axis=1,inplace=True)"
   ]
  },
  {
   "cell_type": "code",
   "execution_count": 58,
   "metadata": {},
   "outputs": [],
   "source": [
    "data.drop(\"Reopen_Time\",axis=1,inplace=True)"
   ]
  },
  {
   "cell_type": "code",
   "execution_count": 59,
   "metadata": {},
   "outputs": [
    {
     "data": {
      "text/plain": [
       "Index(['CI_Cat', 'CI_Subcat', 'Status', 'Impact', 'Urgency', 'Priority',\n",
       "       'number_cnt', 'Category', 'No_of_Reassignments', 'Closure_Code',\n",
       "       'No_of_Related_Interactions'],\n",
       "      dtype='object')"
      ]
     },
     "execution_count": 59,
     "metadata": {},
     "output_type": "execute_result"
    }
   ],
   "source": [
    "data.columns"
   ]
  },
  {
   "cell_type": "markdown",
   "metadata": {},
   "source": [
    "## Check for Outliers"
   ]
  },
  {
   "cell_type": "code",
   "execution_count": 60,
   "metadata": {},
   "outputs": [],
   "source": [
    "num_data=data.select_dtypes(include=[\"int64\",\"float64\"]).columns"
   ]
  },
  {
   "cell_type": "code",
   "execution_count": 61,
   "metadata": {},
   "outputs": [
    {
     "data": {
      "text/plain": [
       "Index(['Priority', 'number_cnt', 'No_of_Reassignments',\n",
       "       'No_of_Related_Interactions'],\n",
       "      dtype='object')"
      ]
     },
     "execution_count": 61,
     "metadata": {},
     "output_type": "execute_result"
    }
   ],
   "source": [
    "num_data"
   ]
  },
  {
   "cell_type": "code",
   "execution_count": 62,
   "metadata": {},
   "outputs": [
    {
     "data": {
      "text/plain": [
       "Index(['CI_Cat', 'CI_Subcat', 'Status', 'Impact', 'Urgency', 'Category',\n",
       "       'Alert_Status', 'Reopen_Time', 'Closure_Code'],\n",
       "      dtype='object')"
      ]
     },
     "execution_count": 62,
     "metadata": {},
     "output_type": "execute_result"
    }
   ],
   "source": [
    "cat_data"
   ]
  },
  {
   "cell_type": "code",
   "execution_count": 63,
   "metadata": {},
   "outputs": [
    {
     "data": {
      "image/png": "[encoded data removed]",
      "text/plain": [
       "<Figure size 1000x600 with 4 Axes>"
      ]
     },
     "metadata": {},
     "output_type": "display_data"
    }
   ],
   "source": [
    "plt.figure(figsize=(10,6))\n",
    "plotnumber=1\n",
    "for col in num_data:\n",
    "  if plotnumber<8:\n",
    "    ax=plt.subplot(2,4,plotnumber)\n",
    "    sns.boxplot(x=data[col])\n",
    "    plt.xlabel(col,fontsize=10)\n",
    "\n",
    "  plotnumber+=1\n",
    "plt.tight_layout()"
   ]
  },
  {
   "cell_type": "markdown",
   "metadata": {},
   "source": [
    "### Box Plot for number_cnt"
   ]
  },
  {
   "cell_type": "code",
   "execution_count": 64,
   "metadata": {},
   "outputs": [
    {
     "data": {
      "image/png": "[encoded data removed]",
      "text/plain": [
       "<Figure size 800x600 with 1 Axes>"
      ]
     },
     "metadata": {},
     "output_type": "display_data"
    }
   ],
   "source": [
    "# Create a box plot for the 'number_cnt' column\n",
    "plt.figure(figsize=(8, 6))\n",
    "sns.boxplot(x=data['number_cnt'])\n",
    "plt.title('Box Plot of number_cnt')\n",
    "plt.ylabel('number_cnt')\n",
    "plt.show()\n"
   ]
  },
  {
   "cell_type": "markdown",
   "metadata": {},
   "source": [
    "### Box Plot for No_of_Reassignements"
   ]
  },
  {
   "cell_type": "code",
   "execution_count": 66,
   "metadata": {},
   "outputs": [
    {
     "data": {
      "image/png": "[encoded data removed]",
      "text/plain": [
       "<Figure size 800x600 with 1 Axes>"
      ]
     },
     "metadata": {},
     "output_type": "display_data"
    }
   ],
   "source": [
    "# Create a box plot for the 'number_cnt' column\n",
    "plt.figure(figsize=(8, 6))\n",
    "sns.boxplot(x=data['No_of_Reassignments'])\n",
    "plt.title('Box Plot of No_of_Reassignments')\n",
    "plt.ylabel('No_of_Reassignments')\n",
    "plt.show()"
   ]
  },
  {
   "cell_type": "code",
   "execution_count": 67,
   "metadata": {},
   "outputs": [
    {
     "data": {
      "text/plain": [
       "<Axes: xlabel='No_of_Reassignments', ylabel='Count'>"
      ]
     },
     "execution_count": 67,
     "metadata": {},
     "output_type": "execute_result"
    },
    {
     "data": {
      "image/png": "[encoded data removed]",
      "text/plain": [
       "<Figure size 800x500 with 1 Axes>"
      ]
     },
     "metadata": {},
     "output_type": "display_data"
    }
   ],
   "source": [
    "# Outliers handle\n",
    "plt.figure(figsize=(8,5))\n",
    "sns.histplot(data=data,x='No_of_Reassignments',kde=True)"
   ]
  },
  {
   "cell_type": "markdown",
   "metadata": {},
   "source": [
    "### **Insights**\n",
    "* Most tickets (0 reassignments) are resolved without being reassigned.\n",
    "* Reassignments decrease exponentially.\n",
    "* There is a small peak at 3 reassignments.\n",
    "* The graph is skewed to the right, meaning more tickets have a few reassignments than many reassignments."
   ]
  },
  {
   "cell_type": "code",
   "execution_count": 68,
   "metadata": {},
   "outputs": [
    {
     "name": "stdout",
     "output_type": "stream",
     "text": [
      "lower_quartile 0.0\n",
      "upper_quartile 2.0\n"
     ]
    }
   ],
   "source": [
    "Q1=data[\"No_of_Reassignments\"].quantile(0.25)\n",
    "print(\"lower_quartile\",Q1)\n",
    "Q3=data[\"No_of_Reassignments\"].quantile(0.75)\n",
    "print(\"upper_quartile\",Q3)"
   ]
  },
  {
   "cell_type": "code",
   "execution_count": 69,
   "metadata": {},
   "outputs": [
    {
     "data": {
      "text/plain": [
       "2.0"
      ]
     },
     "execution_count": 69,
     "metadata": {},
     "output_type": "execute_result"
    }
   ],
   "source": [
    "IQR=Q3-Q1\n",
    "IQR"
   ]
  },
  {
   "cell_type": "code",
   "execution_count": 70,
   "metadata": {},
   "outputs": [
    {
     "name": "stdout",
     "output_type": "stream",
     "text": [
      "lower_limit is -3.0\n",
      "upper_limit is 5.0\n"
     ]
    }
   ],
   "source": [
    "lower_limit=Q1-1.5*IQR\n",
    "print(\"lower_limit is\",lower_limit)\n",
    "upper_limit=Q3+1.5*IQR\n",
    "print(\"upper_limit is\",upper_limit)"
   ]
  },
  {
   "cell_type": "code",
   "execution_count": 71,
   "metadata": {},
   "outputs": [
    {
     "data": {
      "text/html": [
       "<div>\n",
       "<style scoped>\n",
       "    .dataframe tbody tr th:only-of-type {\n",
       "        vertical-align: middle;\n",
       "    }\n",
       "\n",
       "    .dataframe tbody tr th {\n",
       "        vertical-align: top;\n",
       "    }\n",
       "\n",
       "    .dataframe thead th {\n",
       "        text-align: right;\n",
       "    }\n",
       "</style>\n",
       "<table border=\"1\" class=\"dataframe\">\n",
       "  <thead>\n",
       "    <tr style=\"text-align: right;\">\n",
       "      <th></th>\n",
       "      <th>CI_Cat</th>\n",
       "      <th>CI_Subcat</th>\n",
       "      <th>Status</th>\n",
       "      <th>Impact</th>\n",
       "      <th>Urgency</th>\n",
       "      <th>Priority</th>\n",
       "      <th>number_cnt</th>\n",
       "      <th>Category</th>\n",
       "      <th>No_of_Reassignments</th>\n",
       "      <th>Closure_Code</th>\n",
       "      <th>No_of_Related_Interactions</th>\n",
       "    </tr>\n",
       "  </thead>\n",
       "  <tbody>\n",
       "    <tr>\n",
       "      <th>0</th>\n",
       "      <td>subapplication</td>\n",
       "      <td>Web Based Application</td>\n",
       "      <td>Closed</td>\n",
       "      <td>4</td>\n",
       "      <td>4</td>\n",
       "      <td>4.0</td>\n",
       "      <td>0.601292</td>\n",
       "      <td>incident</td>\n",
       "      <td>26.0</td>\n",
       "      <td>Other</td>\n",
       "      <td>1.0</td>\n",
       "    </tr>\n",
       "    <tr>\n",
       "      <th>1</th>\n",
       "      <td>application</td>\n",
       "      <td>Web Based Application</td>\n",
       "      <td>Closed</td>\n",
       "      <td>3</td>\n",
       "      <td>3</td>\n",
       "      <td>3.0</td>\n",
       "      <td>0.415050</td>\n",
       "      <td>incident</td>\n",
       "      <td>33.0</td>\n",
       "      <td>Software</td>\n",
       "      <td>1.0</td>\n",
       "    </tr>\n",
       "    <tr>\n",
       "      <th>3</th>\n",
       "      <td>application</td>\n",
       "      <td>Web Based Application</td>\n",
       "      <td>Closed</td>\n",
       "      <td>4</td>\n",
       "      <td>4</td>\n",
       "      <td>4.0</td>\n",
       "      <td>0.642927</td>\n",
       "      <td>incident</td>\n",
       "      <td>13.0</td>\n",
       "      <td>Operator error</td>\n",
       "      <td>1.0</td>\n",
       "    </tr>\n",
       "    <tr>\n",
       "      <th>10</th>\n",
       "      <td>application</td>\n",
       "      <td>Web Based Application</td>\n",
       "      <td>Closed</td>\n",
       "      <td>4</td>\n",
       "      <td>4</td>\n",
       "      <td>4.0</td>\n",
       "      <td>0.439909</td>\n",
       "      <td>incident</td>\n",
       "      <td>6.0</td>\n",
       "      <td>Software</td>\n",
       "      <td>1.0</td>\n",
       "    </tr>\n",
       "    <tr>\n",
       "      <th>11</th>\n",
       "      <td>application</td>\n",
       "      <td>Web Based Application</td>\n",
       "      <td>Closed</td>\n",
       "      <td>4</td>\n",
       "      <td>4</td>\n",
       "      <td>4.0</td>\n",
       "      <td>0.291928</td>\n",
       "      <td>incident</td>\n",
       "      <td>8.0</td>\n",
       "      <td>Software</td>\n",
       "      <td>1.0</td>\n",
       "    </tr>\n",
       "    <tr>\n",
       "      <th>...</th>\n",
       "      <td>...</td>\n",
       "      <td>...</td>\n",
       "      <td>...</td>\n",
       "      <td>...</td>\n",
       "      <td>...</td>\n",
       "      <td>...</td>\n",
       "      <td>...</td>\n",
       "      <td>...</td>\n",
       "      <td>...</td>\n",
       "      <td>...</td>\n",
       "      <td>...</td>\n",
       "    </tr>\n",
       "    <tr>\n",
       "      <th>44961</th>\n",
       "      <td>application</td>\n",
       "      <td>Server Based Application</td>\n",
       "      <td>Closed</td>\n",
       "      <td>3</td>\n",
       "      <td>3</td>\n",
       "      <td>3.0</td>\n",
       "      <td>0.267787</td>\n",
       "      <td>incident</td>\n",
       "      <td>10.0</td>\n",
       "      <td>Other</td>\n",
       "      <td>2.0</td>\n",
       "    </tr>\n",
       "    <tr>\n",
       "      <th>45040</th>\n",
       "      <td>application</td>\n",
       "      <td>Server Based Application</td>\n",
       "      <td>Closed</td>\n",
       "      <td>5</td>\n",
       "      <td>5</td>\n",
       "      <td>5.0</td>\n",
       "      <td>0.680022</td>\n",
       "      <td>incident</td>\n",
       "      <td>6.0</td>\n",
       "      <td>Software</td>\n",
       "      <td>1.0</td>\n",
       "    </tr>\n",
       "    <tr>\n",
       "      <th>45196</th>\n",
       "      <td>application</td>\n",
       "      <td>Server Based Application</td>\n",
       "      <td>Closed</td>\n",
       "      <td>4</td>\n",
       "      <td>4</td>\n",
       "      <td>4.0</td>\n",
       "      <td>0.449103</td>\n",
       "      <td>incident</td>\n",
       "      <td>7.0</td>\n",
       "      <td>Other</td>\n",
       "      <td>1.0</td>\n",
       "    </tr>\n",
       "    <tr>\n",
       "      <th>45273</th>\n",
       "      <td>application</td>\n",
       "      <td>Desktop Application</td>\n",
       "      <td>Closed</td>\n",
       "      <td>4</td>\n",
       "      <td>4</td>\n",
       "      <td>4.0</td>\n",
       "      <td>0.166302</td>\n",
       "      <td>incident</td>\n",
       "      <td>8.0</td>\n",
       "      <td>Software</td>\n",
       "      <td>1.0</td>\n",
       "    </tr>\n",
       "    <tr>\n",
       "      <th>46063</th>\n",
       "      <td>application</td>\n",
       "      <td>Server Based Application</td>\n",
       "      <td>Closed</td>\n",
       "      <td>5</td>\n",
       "      <td>5</td>\n",
       "      <td>5.0</td>\n",
       "      <td>0.117214</td>\n",
       "      <td>request for information</td>\n",
       "      <td>6.0</td>\n",
       "      <td>Other</td>\n",
       "      <td>2.0</td>\n",
       "    </tr>\n",
       "  </tbody>\n",
       "</table>\n",
       "<p>1973 rows × 11 columns</p>\n",
       "</div>"
      ],
      "text/plain": [
       "               CI_Cat                 CI_Subcat  Status Impact Urgency  \\\n",
       "0      subapplication     Web Based Application  Closed      4       4   \n",
       "1         application     Web Based Application  Closed      3       3   \n",
       "3         application     Web Based Application  Closed      4       4   \n",
       "10        application     Web Based Application  Closed      4       4   \n",
       "11        application     Web Based Application  Closed      4       4   \n",
       "...               ...                       ...     ...    ...     ...   \n",
       "44961     application  Server Based Application  Closed      3       3   \n",
       "45040     application  Server Based Application  Closed      5       5   \n",
       "45196     application  Server Based Application  Closed      4       4   \n",
       "45273     application       Desktop Application  Closed      4       4   \n",
       "46063     application  Server Based Application  Closed      5       5   \n",
       "\n",
       "       Priority  number_cnt                 Category  No_of_Reassignments  \\\n",
       "0           4.0    0.601292                 incident                 26.0   \n",
       "1           3.0    0.415050                 incident                 33.0   \n",
       "3           4.0    0.642927                 incident                 13.0   \n",
       "10          4.0    0.439909                 incident                  6.0   \n",
       "11          4.0    0.291928                 incident                  8.0   \n",
       "...         ...         ...                      ...                  ...   \n",
       "44961       3.0    0.267787                 incident                 10.0   \n",
       "45040       5.0    0.680022                 incident                  6.0   \n",
       "45196       4.0    0.449103                 incident                  7.0   \n",
       "45273       4.0    0.166302                 incident                  8.0   \n",
       "46063       5.0    0.117214  request for information                  6.0   \n",
       "\n",
       "         Closure_Code  No_of_Related_Interactions  \n",
       "0               Other                         1.0  \n",
       "1            Software                         1.0  \n",
       "3      Operator error                         1.0  \n",
       "10           Software                         1.0  \n",
       "11           Software                         1.0  \n",
       "...               ...                         ...  \n",
       "44961           Other                         2.0  \n",
       "45040        Software                         1.0  \n",
       "45196           Other                         1.0  \n",
       "45273        Software                         1.0  \n",
       "46063           Other                         2.0  \n",
       "\n",
       "[1973 rows x 11 columns]"
      ]
     },
     "execution_count": 71,
     "metadata": {},
     "output_type": "execute_result"
    }
   ],
   "source": [
    "data.loc[data[\"No_of_Reassignments\"]>upper_limit]"
   ]
  },
  {
   "cell_type": "code",
   "execution_count": 72,
   "metadata": {},
   "outputs": [
    {
     "data": {
      "text/plain": [
       "0.042334513464220576"
      ]
     },
     "execution_count": 72,
     "metadata": {},
     "output_type": "execute_result"
    }
   ],
   "source": [
    "len(data.loc[data[\"No_of_Reassignments\"]>upper_limit])/len(data)"
   ]
  },
  {
   "cell_type": "code",
   "execution_count": 73,
   "metadata": {},
   "outputs": [],
   "source": [
    "data.loc[data[\"No_of_Reassignments\"]>upper_limit,\"No_of_Reassignments\"]=data[\"No_of_Reassignments\"].median()"
   ]
  },
  {
   "cell_type": "code",
   "execution_count": 74,
   "metadata": {},
   "outputs": [
    {
     "data": {
      "text/plain": [
       "<Axes: xlabel='No_of_Reassignments'>"
      ]
     },
     "execution_count": 74,
     "metadata": {},
     "output_type": "execute_result"
    },
    {
     "data": {
      "image/png": "[encoded data removed]",
      "text/plain": [
       "<Figure size 640x480 with 1 Axes>"
      ]
     },
     "metadata": {},
     "output_type": "display_data"
    }
   ],
   "source": [
    "sns.boxplot(x=data.No_of_Reassignments)"
   ]
  },
  {
   "cell_type": "markdown",
   "metadata": {},
   "source": [
    "### For No_of_realted_interactions"
   ]
  },
  {
   "cell_type": "code",
   "execution_count": 75,
   "metadata": {},
   "outputs": [
    {
     "data": {
      "image/png": "[encoded data removed]",
      "text/plain": [
       "<Figure size 800x600 with 1 Axes>"
      ]
     },
     "metadata": {},
     "output_type": "display_data"
    }
   ],
   "source": [
    "# Create a box plot for the 'No_of_Related_Interactions' column\n",
    "plt.figure(figsize=(8, 6))\n",
    "sns.boxplot(x=data['No_of_Related_Interactions'])\n",
    "plt.title('Box Plot of No_of_Related_Interactions')\n",
    "plt.ylabel('No_of_Related_Interactions')\n",
    "plt.show()"
   ]
  },
  {
   "cell_type": "code",
   "execution_count": 76,
   "metadata": {},
   "outputs": [
    {
     "data": {
      "text/plain": [
       "<Axes: xlabel='No_of_Related_Interactions', ylabel='Count'>"
      ]
     },
     "execution_count": 76,
     "metadata": {},
     "output_type": "execute_result"
    },
    {
     "data": {
      "image/png": "[encoded data removed]",
      "text/plain": [
       "<Figure size 800x500 with 1 Axes>"
      ]
     },
     "metadata": {},
     "output_type": "display_data"
    }
   ],
   "source": [
    "# Outliers Handled\n",
    "plt.figure(figsize=(8,5))\n",
    "sns.histplot(data=data,x='No_of_Related_Interactions',kde=True)"
   ]
  },
  {
   "cell_type": "markdown",
   "metadata": {},
   "source": [
    "### **Insights**\n",
    "* Most tickets (0 reassignments) are resolved without being reassigned.\n",
    "* Reassignments decrease exponentially.\n",
    "* There is a small peak at 3 reassignments.\n",
    "* The graph is skewed to the right, meaning more tickets have a few reassignments than many reassignments."
   ]
  },
  {
   "cell_type": "code",
   "execution_count": 77,
   "metadata": {},
   "outputs": [
    {
     "name": "stdout",
     "output_type": "stream",
     "text": [
      "lower_quantile 1.0\n",
      "upper_quantile 1.0\n"
     ]
    }
   ],
   "source": [
    "Q1 = data[\"No_of_Related_Interactions\"].quantile(0.25)\n",
    "print(\"lower_quantile\",Q1)\n",
    "Q3 = data[\"No_of_Related_Interactions\"].quantile(0.75)\n",
    "print(\"upper_quantile\",Q3)"
   ]
  },
  {
   "cell_type": "code",
   "execution_count": 78,
   "metadata": {},
   "outputs": [
    {
     "data": {
      "text/plain": [
       "0.0"
      ]
     },
     "execution_count": 78,
     "metadata": {},
     "output_type": "execute_result"
    }
   ],
   "source": [
    "IQR=Q3 - Q1\n",
    "IQR"
   ]
  },
  {
   "cell_type": "code",
   "execution_count": 79,
   "metadata": {},
   "outputs": [
    {
     "name": "stdout",
     "output_type": "stream",
     "text": [
      "lower_limit is 1.0\n",
      "upper_limit is 1.0\n"
     ]
    }
   ],
   "source": [
    "lower_limit = Q1-1.5*IQR\n",
    "print(\"lower_limit is\",lower_limit)\n",
    "upper_limit = Q3+1.5*IQR\n",
    "print(\"upper_limit is\",upper_limit)"
   ]
  },
  {
   "cell_type": "code",
   "execution_count": 80,
   "metadata": {},
   "outputs": [
    {
     "data": {
      "text/html": [
       "<div>\n",
       "<style scoped>\n",
       "    .dataframe tbody tr th:only-of-type {\n",
       "        vertical-align: middle;\n",
       "    }\n",
       "\n",
       "    .dataframe tbody tr th {\n",
       "        vertical-align: top;\n",
       "    }\n",
       "\n",
       "    .dataframe thead th {\n",
       "        text-align: right;\n",
       "    }\n",
       "</style>\n",
       "<table border=\"1\" class=\"dataframe\">\n",
       "  <thead>\n",
       "    <tr style=\"text-align: right;\">\n",
       "      <th></th>\n",
       "      <th>CI_Cat</th>\n",
       "      <th>CI_Subcat</th>\n",
       "      <th>Status</th>\n",
       "      <th>Impact</th>\n",
       "      <th>Urgency</th>\n",
       "      <th>Priority</th>\n",
       "      <th>number_cnt</th>\n",
       "      <th>Category</th>\n",
       "      <th>No_of_Reassignments</th>\n",
       "      <th>Closure_Code</th>\n",
       "      <th>No_of_Related_Interactions</th>\n",
       "    </tr>\n",
       "  </thead>\n",
       "  <tbody>\n",
       "    <tr>\n",
       "      <th>12</th>\n",
       "      <td>application</td>\n",
       "      <td>Web Based Application</td>\n",
       "      <td>Closed</td>\n",
       "      <td>4</td>\n",
       "      <td>4</td>\n",
       "      <td>4.0</td>\n",
       "      <td>0.776486</td>\n",
       "      <td>incident</td>\n",
       "      <td>5.0</td>\n",
       "      <td>Software</td>\n",
       "      <td>2.0</td>\n",
       "    </tr>\n",
       "    <tr>\n",
       "      <th>18</th>\n",
       "      <td>application</td>\n",
       "      <td>Desktop Application</td>\n",
       "      <td>Closed</td>\n",
       "      <td>3</td>\n",
       "      <td>3</td>\n",
       "      <td>3.0</td>\n",
       "      <td>0.860255</td>\n",
       "      <td>incident</td>\n",
       "      <td>0.0</td>\n",
       "      <td>Other</td>\n",
       "      <td>2.0</td>\n",
       "    </tr>\n",
       "    <tr>\n",
       "      <th>19</th>\n",
       "      <td>application</td>\n",
       "      <td>Web Based Application</td>\n",
       "      <td>Closed</td>\n",
       "      <td>5</td>\n",
       "      <td>5</td>\n",
       "      <td>5.0</td>\n",
       "      <td>0.663615</td>\n",
       "      <td>incident</td>\n",
       "      <td>5.0</td>\n",
       "      <td>Other</td>\n",
       "      <td>2.0</td>\n",
       "    </tr>\n",
       "    <tr>\n",
       "      <th>27</th>\n",
       "      <td>application</td>\n",
       "      <td>Server Based Application</td>\n",
       "      <td>Closed</td>\n",
       "      <td>5</td>\n",
       "      <td>5</td>\n",
       "      <td>5.0</td>\n",
       "      <td>0.748361</td>\n",
       "      <td>request for information</td>\n",
       "      <td>0.0</td>\n",
       "      <td>No error - works as designed</td>\n",
       "      <td>2.0</td>\n",
       "    </tr>\n",
       "    <tr>\n",
       "      <th>29</th>\n",
       "      <td>application</td>\n",
       "      <td>Server Based Application</td>\n",
       "      <td>Closed</td>\n",
       "      <td>5</td>\n",
       "      <td>5</td>\n",
       "      <td>5.0</td>\n",
       "      <td>0.853722</td>\n",
       "      <td>request for information</td>\n",
       "      <td>2.0</td>\n",
       "      <td>Other</td>\n",
       "      <td>2.0</td>\n",
       "    </tr>\n",
       "    <tr>\n",
       "      <th>...</th>\n",
       "      <td>...</td>\n",
       "      <td>...</td>\n",
       "      <td>...</td>\n",
       "      <td>...</td>\n",
       "      <td>...</td>\n",
       "      <td>...</td>\n",
       "      <td>...</td>\n",
       "      <td>...</td>\n",
       "      <td>...</td>\n",
       "      <td>...</td>\n",
       "      <td>...</td>\n",
       "    </tr>\n",
       "    <tr>\n",
       "      <th>46455</th>\n",
       "      <td>application</td>\n",
       "      <td>Server Based Application</td>\n",
       "      <td>Closed</td>\n",
       "      <td>4</td>\n",
       "      <td>4</td>\n",
       "      <td>4.0</td>\n",
       "      <td>0.175887</td>\n",
       "      <td>incident</td>\n",
       "      <td>1.0</td>\n",
       "      <td>Other</td>\n",
       "      <td>2.0</td>\n",
       "    </tr>\n",
       "    <tr>\n",
       "      <th>46458</th>\n",
       "      <td>application</td>\n",
       "      <td>Server Based Application</td>\n",
       "      <td>Closed</td>\n",
       "      <td>5</td>\n",
       "      <td>5</td>\n",
       "      <td>5.0</td>\n",
       "      <td>0.969598</td>\n",
       "      <td>incident</td>\n",
       "      <td>0.0</td>\n",
       "      <td>Software</td>\n",
       "      <td>2.0</td>\n",
       "    </tr>\n",
       "    <tr>\n",
       "      <th>46460</th>\n",
       "      <td>application</td>\n",
       "      <td>Server Based Application</td>\n",
       "      <td>Closed</td>\n",
       "      <td>5</td>\n",
       "      <td>3</td>\n",
       "      <td>4.0</td>\n",
       "      <td>0.628989</td>\n",
       "      <td>incident</td>\n",
       "      <td>0.0</td>\n",
       "      <td>Software</td>\n",
       "      <td>2.0</td>\n",
       "    </tr>\n",
       "    <tr>\n",
       "      <th>46471</th>\n",
       "      <td>application</td>\n",
       "      <td>Server Based Application</td>\n",
       "      <td>Closed</td>\n",
       "      <td>5</td>\n",
       "      <td>5</td>\n",
       "      <td>5.0</td>\n",
       "      <td>0.280788</td>\n",
       "      <td>incident</td>\n",
       "      <td>0.0</td>\n",
       "      <td>Software</td>\n",
       "      <td>2.0</td>\n",
       "    </tr>\n",
       "    <tr>\n",
       "      <th>46598</th>\n",
       "      <td>application</td>\n",
       "      <td>Web Based Application</td>\n",
       "      <td>Closed</td>\n",
       "      <td>5</td>\n",
       "      <td>5</td>\n",
       "      <td>5.0</td>\n",
       "      <td>0.115338</td>\n",
       "      <td>incident</td>\n",
       "      <td>3.0</td>\n",
       "      <td>Software</td>\n",
       "      <td>2.0</td>\n",
       "    </tr>\n",
       "  </tbody>\n",
       "</table>\n",
       "<p>3434 rows × 11 columns</p>\n",
       "</div>"
      ],
      "text/plain": [
       "            CI_Cat                 CI_Subcat  Status Impact Urgency  Priority  \\\n",
       "12     application     Web Based Application  Closed      4       4       4.0   \n",
       "18     application       Desktop Application  Closed      3       3       3.0   \n",
       "19     application     Web Based Application  Closed      5       5       5.0   \n",
       "27     application  Server Based Application  Closed      5       5       5.0   \n",
       "29     application  Server Based Application  Closed      5       5       5.0   \n",
       "...            ...                       ...     ...    ...     ...       ...   \n",
       "46455  application  Server Based Application  Closed      4       4       4.0   \n",
       "46458  application  Server Based Application  Closed      5       5       5.0   \n",
       "46460  application  Server Based Application  Closed      5       3       4.0   \n",
       "46471  application  Server Based Application  Closed      5       5       5.0   \n",
       "46598  application     Web Based Application  Closed      5       5       5.0   \n",
       "\n",
       "       number_cnt                 Category  No_of_Reassignments  \\\n",
       "12       0.776486                 incident                  5.0   \n",
       "18       0.860255                 incident                  0.0   \n",
       "19       0.663615                 incident                  5.0   \n",
       "27       0.748361  request for information                  0.0   \n",
       "29       0.853722  request for information                  2.0   \n",
       "...           ...                      ...                  ...   \n",
       "46455    0.175887                 incident                  1.0   \n",
       "46458    0.969598                 incident                  0.0   \n",
       "46460    0.628989                 incident                  0.0   \n",
       "46471    0.280788                 incident                  0.0   \n",
       "46598    0.115338                 incident                  3.0   \n",
       "\n",
       "                       Closure_Code  No_of_Related_Interactions  \n",
       "12                         Software                         2.0  \n",
       "18                            Other                         2.0  \n",
       "19                            Other                         2.0  \n",
       "27     No error - works as designed                         2.0  \n",
       "29                            Other                         2.0  \n",
       "...                             ...                         ...  \n",
       "46455                         Other                         2.0  \n",
       "46458                      Software                         2.0  \n",
       "46460                      Software                         2.0  \n",
       "46471                      Software                         2.0  \n",
       "46598                      Software                         2.0  \n",
       "\n",
       "[3434 rows x 11 columns]"
      ]
     },
     "execution_count": 80,
     "metadata": {},
     "output_type": "execute_result"
    }
   ],
   "source": [
    "data.loc[data[\"No_of_Related_Interactions\"]>upper_limit]"
   ]
  },
  {
   "cell_type": "code",
   "execution_count": 81,
   "metadata": {},
   "outputs": [
    {
     "data": {
      "text/html": [
       "<div>\n",
       "<style scoped>\n",
       "    .dataframe tbody tr th:only-of-type {\n",
       "        vertical-align: middle;\n",
       "    }\n",
       "\n",
       "    .dataframe tbody tr th {\n",
       "        vertical-align: top;\n",
       "    }\n",
       "\n",
       "    .dataframe thead th {\n",
       "        text-align: right;\n",
       "    }\n",
       "</style>\n",
       "<table border=\"1\" class=\"dataframe\">\n",
       "  <thead>\n",
       "    <tr style=\"text-align: right;\">\n",
       "      <th></th>\n",
       "      <th>CI_Cat</th>\n",
       "      <th>CI_Subcat</th>\n",
       "      <th>Status</th>\n",
       "      <th>Impact</th>\n",
       "      <th>Urgency</th>\n",
       "      <th>Priority</th>\n",
       "      <th>number_cnt</th>\n",
       "      <th>Category</th>\n",
       "      <th>No_of_Reassignments</th>\n",
       "      <th>Closure_Code</th>\n",
       "      <th>No_of_Related_Interactions</th>\n",
       "    </tr>\n",
       "  </thead>\n",
       "  <tbody>\n",
       "  </tbody>\n",
       "</table>\n",
       "</div>"
      ],
      "text/plain": [
       "Empty DataFrame\n",
       "Columns: [CI_Cat, CI_Subcat, Status, Impact, Urgency, Priority, number_cnt, Category, No_of_Reassignments, Closure_Code, No_of_Related_Interactions]\n",
       "Index: []"
      ]
     },
     "execution_count": 81,
     "metadata": {},
     "output_type": "execute_result"
    }
   ],
   "source": [
    "data.loc[data[\"No_of_Related_Interactions\"]<lower_limit]"
   ]
  },
  {
   "cell_type": "code",
   "execution_count": 82,
   "metadata": {},
   "outputs": [
    {
     "data": {
      "text/plain": [
       "<Axes: xlabel='No_of_Related_Interactions'>"
      ]
     },
     "execution_count": 82,
     "metadata": {},
     "output_type": "execute_result"
    },
    {
     "data": {
      "image/png": "[encoded data removed]",
      "text/plain": [
       "<Figure size 640x480 with 1 Axes>"
      ]
     },
     "metadata": {},
     "output_type": "display_data"
    }
   ],
   "source": [
    "sns.boxplot(x=data.No_of_Related_Interactions)"
   ]
  },
  {
   "cell_type": "markdown",
   "metadata": {},
   "source": [
    "* Median number of related interactions is 1.\n",
    "* 75% of tickets have 3 or fewer related interactions.\n",
    "* There are a few outliers with many related interactions (up to 20).\n"
   ]
  },
  {
   "cell_type": "code",
   "execution_count": null,
   "metadata": {},
   "outputs": [],
   "source": []
  },
  {
   "cell_type": "code",
   "execution_count": null,
   "metadata": {},
   "outputs": [],
   "source": []
  },
  {
   "cell_type": "code",
   "execution_count": null,
   "metadata": {},
   "outputs": [],
   "source": []
  },
  {
   "cell_type": "code",
   "execution_count": null,
   "metadata": {},
   "outputs": [],
   "source": []
  },
  {
   "cell_type": "code",
   "execution_count": null,
   "metadata": {},
   "outputs": [],
   "source": []
  },
  {
   "cell_type": "code",
   "execution_count": null,
   "metadata": {},
   "outputs": [],
   "source": []
  },
  {
   "cell_type": "code",
   "execution_count": null,
   "metadata": {},
   "outputs": [],
   "source": []
  },
  {
   "cell_type": "code",
   "execution_count": null,
   "metadata": {},
   "outputs": [],
   "source": []
  }
 ],
 "metadata": {
  "kernelspec": {
   "display_name": "Python 3",
   "language": "python",
   "name": "python3"
  },
  "language_info": {
   "codemirror_mode": {
    "name": "ipython",
    "version": 3
   },
   "file_extension": ".py",
   "mimetype": "text/x-python",
   "name": "python",
   "nbconvert_exporter": "python",
   "pygments_lexer": "ipython3",
   "version": "3.9.18"
  }
 },
 "nbformat": 4,
 "nbformat_minor": 2
}
